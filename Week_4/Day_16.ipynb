{
 "cells": [
  {
   "cell_type": "markdown",
   "id": "d4cc04ca",
   "metadata": {},
   "source": [
    "# Machine Learning\n",
    "\n",
    "### Type Of Machine Learning\n",
    "1. KNN - used for both prediction or classification\n",
    "2. Random Forest\n",
    "3. Decision Tree\n",
    "4. Naive Bayes\n",
    "5. Linear Regression - used to predict\n",
    "6. SVM( Support Vector Machine)\n",
    "7. Neural Network"
   ]
  },
  {
   "cell_type": "markdown",
   "id": "0af268ed",
   "metadata": {},
   "source": [
    "### KNN\n",
    "###### K NEAREST NEIGHBOUR IS A SUPERVISED LEARNING ALGORITHMS THAT CLASSIFIES A NEW DATA POINT WHO THE TARGET CLASS.\n",
    "Its Lazy Algorithm"
   ]
  },
  {
   "cell_type": "markdown",
   "id": "ed53f239",
   "metadata": {},
   "source": [
    "###  Binary classification Mtrix\n",
    "1. Confusion Matrix.\n",
    "2. Accuracy,\n",
    "3. Precision,\n",
    "4. Recall,\n",
    "5. F1 Score"
   ]
  },
  {
   "cell_type": "code",
   "execution_count": 2,
   "id": "dae300ba",
   "metadata": {},
   "outputs": [
    {
     "name": "stdout",
     "output_type": "stream",
     "text": [
      "[0 0 0 0 0 0 0 0 0 0 0 0 0 0 0 0 0 0 0 0 0 0 0 0 0 0 0 0 0 0 0 0 0 0 0 0 0\n",
      " 0 0 0 0 0 0 0 0 0 0 0 0 0 1 1 1 1 1 1 1 1 1 1 1 1 1 1 1 1 1 1 1 1 1 1 1 1\n",
      " 1 1 1 1 1 1 1 1 1 1 1 1 1 1 1 1 1 1 1 1 1 1 1 1 1 1 2 2 2 2 2 2 2 2 2 2 2\n",
      " 2 2 2 2 2 2 2 2 2 2 2 2 2 2 2 2 2 2 2 2 2 2 2 2 2 2 2 2 2 2 2 2 2 2 2 2 2\n",
      " 2 2]\n",
      "0.9777777777777777\n",
      "              precision    recall  f1-score   support\n",
      "\n",
      "           0       1.00      1.00      1.00        15\n",
      "           1       0.94      1.00      0.97        15\n",
      "           2       1.00      0.93      0.97        15\n",
      "\n",
      "    accuracy                           0.98        45\n",
      "   macro avg       0.98      0.98      0.98        45\n",
      "weighted avg       0.98      0.98      0.98        45\n",
      "\n",
      "[[15  0  0]\n",
      " [ 0 15  0]\n",
      " [ 0  1 14]]\n"
     ]
    }
   ],
   "source": [
    "from sklearn import neighbors, datasets, preprocessing\n",
    "from sklearn.model_selection import train_test_split\n",
    "from sklearn.metrics import accuracy_score\n",
    "from sklearn.metrics import classification_report\n",
    "from sklearn.metrics import confusion_matrix\n",
    "\n",
    "iris = datasets.load_iris()\n",
    "print(iris['target'])\n",
    "X, y = iris.data[:, :], iris.target\n",
    "X_train, X_test, y_train, y_test = train_test_split(X, y, stratify = y, random_state = 0, train_size = 0.7)\n",
    "\n",
    "scaler = preprocessing.StandardScaler().fit(X_train)\n",
    "X_train = scaler.transform(X_train)\n",
    "X_test = scaler.transform(X_test)\n",
    "\n",
    "knn = neighbors.KNeighborsClassifier(n_neighbors = 3)\n",
    "knn.fit(X_train, y_train)\n",
    "y_pred = knn.predict(X_test)\n",
    "\n",
    "print(accuracy_score(y_test, y_pred))\n",
    "print(classification_report(y_test, y_pred))\n",
    "print(confusion_matrix(y_test, y_pred))"
   ]
  },
  {
   "cell_type": "markdown",
   "id": "a84f9ddd",
   "metadata": {},
   "source": [
    "### SVM ( Support Vector Machine )\n",
    "---> SVM is a discriminative classifier that is formally designed by a separative hyperplane. It is a    representation of examples as points in space "
   ]
  }
 ],
 "metadata": {
  "kernelspec": {
   "display_name": "Python 3 (ipykernel)",
   "language": "python",
   "name": "python3"
  },
  "language_info": {
   "codemirror_mode": {
    "name": "ipython",
    "version": 3
   },
   "file_extension": ".py",
   "mimetype": "text/x-python",
   "name": "python",
   "nbconvert_exporter": "python",
   "pygments_lexer": "ipython3",
   "version": "3.9.12"
  }
 },
 "nbformat": 4,
 "nbformat_minor": 5
}
