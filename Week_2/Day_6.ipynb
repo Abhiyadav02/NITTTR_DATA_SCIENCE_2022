{
 "cells": [
  {
   "cell_type": "code",
   "execution_count": null,
   "id": "c904a737",
   "metadata": {},
   "outputs": [],
   "source": [
    "#Question 1\n",
    "digit = {'0' : 'Zero',\n",
    "        '1' : 'One',\n",
    "        '2' : 'Two',\n",
    "        '3' : 'Three',\n",
    "        '4' : 'Four',\n",
    "        '5' : 'Five',\n",
    "        '6' : 'Six',\n",
    "        '7' : 'Seven',\n",
    "        '8' : 'Eight',\n",
    "        '9' : 'Nine'}\n",
    "\n",
    "num = str(input(\"Enter the number : \"))\n",
    "for i in num:\n",
    "    x = digit[i]\n",
    "    print(x,end = \" \")"
   ]
  },
  {
   "cell_type": "code",
   "execution_count": 1,
   "id": "b6755c7d",
   "metadata": {},
   "outputs": [
    {
     "name": "stdout",
     "output_type": "stream",
     "text": [
      "Temperature in Celceius : 32\n",
      "Converted temperature from celcius into fahrenheit :  89.6\n"
     ]
    }
   ],
   "source": [
    "#Question 2\n",
    "def temperature(celcius):\n",
    "    fahrenheit = ( 9 / 5 ) * celcius + 32\n",
    "    print(\"Converted temperature from celcius into fahrenheit : \", fahrenheit)\n",
    "temp = int(input(\"Temperature in Celceius : \"))\n",
    "temperature(temp)"
   ]
  },
  {
   "cell_type": "code",
   "execution_count": 27,
   "id": "6e75a0c6",
   "metadata": {},
   "outputs": [
    {
     "name": "stdout",
     "output_type": "stream",
     "text": [
      "enter the date in form mm/dd/yyyy10/02/2002\n",
      "October/02/2002\n"
     ]
    }
   ],
   "source": [
    "#Question 3\n",
    "import datetime as dt\n",
    "val=input(\"enter the date in form mm/dd/yyyy\")\n",
    "time = dt.datetime.strptime(val, \"%m/%d/%Y\").date()\n",
    "result = dt.datetime.strftime(time, \"%B/%d/%Y\")\n",
    "print(result)"
   ]
  },
  {
   "cell_type": "code",
   "execution_count": null,
   "id": "e730df22",
   "metadata": {},
   "outputs": [],
   "source": []
  }
 ],
 "metadata": {
  "kernelspec": {
   "display_name": "Python 3 (ipykernel)",
   "language": "python",
   "name": "python3"
  },
  "language_info": {
   "codemirror_mode": {
    "name": "ipython",
    "version": 3
   },
   "file_extension": ".py",
   "mimetype": "text/x-python",
   "name": "python",
   "nbconvert_exporter": "python",
   "pygments_lexer": "ipython3",
   "version": "3.9.12"
  }
 },
 "nbformat": 4,
 "nbformat_minor": 5
}
