{
 "cells": [
  {
   "cell_type": "markdown",
   "id": "a0168f1b",
   "metadata": {},
   "source": [
    "## File Handling"
   ]
  },
  {
   "cell_type": "markdown",
   "id": "0edafb22",
   "metadata": {},
   "source": [
    "--> File is a named location on disk to store related information. It is used to permanently store data in a non- volatile memory ( e.g Hard disk)\n",
    "\n",
    "--> Since, random access memory ( RAM ) is volatile ehich loses its data"
   ]
  },
  {
   "cell_type": "markdown",
   "id": "f3a21f2e",
   "metadata": {},
   "source": [
    "--> The Key function for working with file in python is the open() function. The open() function takes two parameters: filename, and mode.\n",
    "\n",
    "--> There are four different methods (modes) for openning a file:\n",
    "\n",
    "'r' -->\n",
    "\n",
    "'w' -->\n",
    "\n",
    "'a' -->\n",
    "\n",
    "'x' -->\n",
    "\n",
    "'t' -->\n",
    "\n",
    "'d' --> "
   ]
  },
  {
   "cell_type": "code",
   "execution_count": 1,
   "id": "e1e7aa4c",
   "metadata": {},
   "outputs": [
    {
     "data": {
      "text/plain": [
       "'Hi, THis is ABhishek Yadav, from Rajasthan.\\nCurrently, learning Data Science.'"
      ]
     },
     "execution_count": 1,
     "metadata": {},
     "output_type": "execute_result"
    }
   ],
   "source": [
    "f = open(\"demo_file.txt\",'r')\n",
    "f.read()"
   ]
  },
  {
   "cell_type": "code",
   "execution_count": 3,
   "id": "cfbed214",
   "metadata": {},
   "outputs": [
    {
     "data": {
      "text/plain": [
       "'Hi, THis i'"
      ]
     },
     "execution_count": 3,
     "metadata": {},
     "output_type": "execute_result"
    }
   ],
   "source": [
    "f = open('demo_file.txt', 'r')\n",
    "f.read(10)"
   ]
  },
  {
   "cell_type": "code",
   "execution_count": 5,
   "id": "080008d9",
   "metadata": {},
   "outputs": [
    {
     "data": {
      "text/plain": [
       "'Hi, THis is ABhishek Yadav, from Rajasthan.\\n'"
      ]
     },
     "execution_count": 5,
     "metadata": {},
     "output_type": "execute_result"
    }
   ],
   "source": [
    "f = open('demo_file.txt', 'r')\n",
    "f.readline()"
   ]
  },
  {
   "cell_type": "code",
   "execution_count": 10,
   "id": "f9a6359d",
   "metadata": {},
   "outputs": [
    {
     "name": "stdout",
     "output_type": "stream",
     "text": [
      "Hi, THis is ABhishek Yadav, from Rajasthan.\n",
      "\n",
      "Curr\n"
     ]
    }
   ],
   "source": [
    "f = open('demo_file.txt', 'r')\n",
    "print(f.readline())\n",
    "print(f.read(4))"
   ]
  },
  {
   "cell_type": "code",
   "execution_count": 11,
   "id": "91c82d1a",
   "metadata": {},
   "outputs": [
    {
     "name": "stdout",
     "output_type": "stream",
     "text": [
      "Hi, THis is ABhishek Yadav, from Rajasthan.\n",
      "\n",
      "Currently, learning Data Science.\n"
     ]
    }
   ],
   "source": [
    "f = open('demo_file.txt', 'r')\n",
    "for x in f:\n",
    "    print(x)"
   ]
  },
  {
   "cell_type": "code",
   "execution_count": 13,
   "id": "32bcb377",
   "metadata": {},
   "outputs": [
    {
     "name": "stdout",
     "output_type": "stream",
     "text": [
      "Doing my graduation from AMity Univesity, Rajasthanin B.Tech CSEDoing my graduation from AMity Univesity, Rajasthanin B.Tech CSE\n"
     ]
    }
   ],
   "source": [
    "# open the file and append the content in it\n",
    "f = open('demo_file_1.txt', 'a')\n",
    "f.write('Doing my graduation from AMity Univesity, Rajasthan')\n",
    "f.write('in B.Tech CSE')\n",
    "# closeing the file after append the string\n",
    "f.close()\n",
    "\n",
    "# open and read the file after the appending:\n",
    "f = open('demo_file_1.txt','r')\n",
    "print(f.read())"
   ]
  },
  {
   "cell_type": "code",
   "execution_count": 15,
   "id": "60de13da",
   "metadata": {},
   "outputs": [
    {
     "data": {
      "text/plain": [
       "'Hello everyone! THis is abhishek Yadav'"
      ]
     },
     "execution_count": 15,
     "metadata": {},
     "output_type": "execute_result"
    }
   ],
   "source": [
    "# open the file and overwrite the content of file\n",
    "f = open('demo_file_2.txt','w')\n",
    "\n",
    "# the \"w\" method will overwrite the entire file\n",
    "f.write('Hello everyone! THis is abhishek Yadav')\n",
    "# need not to close the file the compile will did it by its own but we can do for safety purpose\n",
    "#f.close()\n",
    "\n",
    "f = open('demo_file_2.txt','r')\n",
    "f.read()"
   ]
  },
  {
   "cell_type": "code",
   "execution_count": 18,
   "id": "cf134aba",
   "metadata": {},
   "outputs": [
    {
     "name": "stdout",
     "output_type": "stream",
     "text": [
      "Currently, learning Data Science.\n"
     ]
    }
   ],
   "source": [
    "# to print the perticular line or some nth no of line in given file\n",
    "f = open('demo_file.txt','r')\n",
    "a = f.readlines()\n",
    "print(a[1])"
   ]
  },
  {
   "cell_type": "code",
   "execution_count": 29,
   "id": "3b889939",
   "metadata": {},
   "outputs": [
    {
     "name": "stdout",
     "output_type": "stream",
     "text": [
      "This is 1 \n",
      "This is 10 line.\n",
      "\n"
     ]
    }
   ],
   "source": [
    "# create a new.txt file and read the tenth index and tenth file of index\n",
    "f = open('new.txt','w')\n",
    "f.write('This is 1 line.\\n')\n",
    "f.write('This is 2 line.\\n')\n",
    "f.write('This is 3 line.\\n')\n",
    "f.write('This is 4 line.\\n')\n",
    "f.write('This is 5 line.\\n')\n",
    "f.write('This is 6 line.\\n')\n",
    "f.write('This is 7 line.\\n')\n",
    "f.write('This is 8 line.\\n')\n",
    "f.write('This is 9 line.\\n')\n",
    "f.write('This is 10 line.\\n')\n",
    "f.write('This is 11 line.\\n')\n",
    "f.close()\n",
    "\n",
    "f = open('new.txt','r')\n",
    "print(f.read(10))\n",
    "c = f.readlines()\n",
    "print(c[9])"
   ]
  },
  {
   "cell_type": "code",
   "execution_count": 31,
   "id": "806d1391",
   "metadata": {},
   "outputs": [
    {
     "ename": "FileNotFoundError",
     "evalue": "[WinError 2] The system cannot find the file specified: 'demo_file_3'",
     "output_type": "error",
     "traceback": [
      "\u001b[1;31m---------------------------------------------------------------------------\u001b[0m",
      "\u001b[1;31mFileNotFoundError\u001b[0m                         Traceback (most recent call last)",
      "Input \u001b[1;32mIn [31]\u001b[0m, in \u001b[0;36m<cell line: 7>\u001b[1;34m()\u001b[0m\n\u001b[0;32m      6\u001b[0m \u001b[38;5;28;01mimport\u001b[39;00m \u001b[38;5;21;01mos\u001b[39;00m\n\u001b[0;32m      7\u001b[0m \u001b[38;5;28;01mif\u001b[39;00m os\u001b[38;5;241m.\u001b[39mpath\u001b[38;5;241m.\u001b[39mexists(\u001b[38;5;124m'\u001b[39m\u001b[38;5;124mdemo_file_3.txt\u001b[39m\u001b[38;5;124m'\u001b[39m):\n\u001b[1;32m----> 8\u001b[0m     \u001b[43mos\u001b[49m\u001b[38;5;241;43m.\u001b[39;49m\u001b[43mremove\u001b[49m\u001b[43m(\u001b[49m\u001b[38;5;124;43m'\u001b[39;49m\u001b[38;5;124;43mdemo_file_3\u001b[39;49m\u001b[38;5;124;43m'\u001b[39;49m\u001b[43m)\u001b[49m\n\u001b[0;32m      9\u001b[0m \u001b[38;5;28;01melse\u001b[39;00m:\n\u001b[0;32m     10\u001b[0m     \u001b[38;5;28mprint\u001b[39m(\u001b[38;5;124m'\u001b[39m\u001b[38;5;124mFile does not exists!!!\u001b[39m\u001b[38;5;124m'\u001b[39m)\n",
      "\u001b[1;31mFileNotFoundError\u001b[0m: [WinError 2] The system cannot find the file specified: 'demo_file_3'"
     ]
    }
   ],
   "source": [
    "# Remove  the file 'demo_file_3.txt' \n",
    "# import os\n",
    "# os.remove('hello.txt')\n",
    "\n",
    "# check the file exists, then remove it\n",
    "import os\n",
    "if os.path.exists('demo_file_3.txt'):\n",
    "    os.remove('demo_file_3')\n",
    "else:\n",
    "    print('File does not exists!!!')"
   ]
  },
  {
   "cell_type": "code",
   "execution_count": 32,
   "id": "9d1e9079",
   "metadata": {},
   "outputs": [
    {
     "ename": "AttributeError",
     "evalue": "module 'os' has no attribute 'emdir'",
     "output_type": "error",
     "traceback": [
      "\u001b[1;31m---------------------------------------------------------------------------\u001b[0m",
      "\u001b[1;31mAttributeError\u001b[0m                            Traceback (most recent call last)",
      "Input \u001b[1;32mIn [32]\u001b[0m, in \u001b[0;36m<cell line: 2>\u001b[1;34m()\u001b[0m\n\u001b[0;32m      1\u001b[0m \u001b[38;5;28;01mimport\u001b[39;00m \u001b[38;5;21;01mos\u001b[39;00m\n\u001b[1;32m----> 2\u001b[0m \u001b[43mos\u001b[49m\u001b[38;5;241;43m.\u001b[39;49m\u001b[43memdir\u001b[49m(\u001b[38;5;124m'\u001b[39m\u001b[38;5;124mmyfolder\u001b[39m\u001b[38;5;124m'\u001b[39m)\n",
      "\u001b[1;31mAttributeError\u001b[0m: module 'os' has no attribute 'emdir'"
     ]
    }
   ],
   "source": [
    "import os\n",
    "os.emdir('myfolder')"
   ]
  },
  {
   "cell_type": "code",
   "execution_count": 38,
   "id": "69324661",
   "metadata": {},
   "outputs": [
    {
     "name": "stdout",
     "output_type": "stream",
     "text": [
      "EMP\n",
      "5\n",
      "20\n",
      "EMP\n",
      "Gender\n",
      "Age\n",
      "Sales\n",
      "BMI\n",
      "EMP\n",
      "E001\n",
      "E002\n",
      "E003\n",
      "E004\n",
      "E005\n",
      "E006\n",
      "E007\n",
      "E008\n",
      "E009\n",
      "E010\n",
      "E011\n",
      "E012\n",
      "E013\n",
      "E014\n",
      "E015\n",
      "E016\n",
      "E017\n",
      "E018\n",
      "E019\n",
      "E001 M 23 34 obesity "
     ]
    }
   ],
   "source": [
    "# sudo pip3 install openpyxl\n",
    "# python program to read an excel file\n",
    "\n",
    "#import openpyxl module\n",
    "import openpyxl\n",
    "\n",
    "# Give the location of the file\n",
    "path = 'F:\\ML-DS-PYTHON\\linkdin\\projects_dataset/Transpose.xlsx'\n",
    "\n",
    "# To open the workbook object is created \n",
    "wb_obj = openpyxl.load_workbook(path)\n",
    "\n",
    "# get workbook active sheet object from the active attribute\n",
    "sheet_obj = wb_obj.active\n",
    "\n",
    "# Note : The first row or Column integer is 1, not 0.\n",
    "# Cell object is created by using sheet object's cell() method. \n",
    "cell_obj = sheet_obj.cell(row = 1, column = 1)\n",
    "\n",
    "# Print value of cell object\n",
    "# using the value aatribute\n",
    "print(cell_obj.value)\n",
    "\n",
    "# Print total number of column\n",
    "print(sheet_obj.max_column)\n",
    "\n",
    "# Print the total number of rows\n",
    "print(sheet_obj.max_row)\n",
    "\n",
    "# Print all columns name\n",
    "max_col = sheet_obj.max_column\n",
    "\n",
    "# Loop will print all columns name\n",
    "for i in range(1, max_col + 1):\n",
    "    cell_obj = sheet_obj.cell(row = 1, column = i)\n",
    "    print(cell_obj.value)\n",
    "    \n",
    "# Loop will print all values of first column\n",
    "m_row = sheet_obj.max_row\n",
    "for i in range(1, m_row + 1):\n",
    "    cell_obj = sheet_obj.cell(row = i, column = 1)\n",
    "    print(cell_obj.value)\n",
    "    \n",
    "# Will print a particular row value\n",
    "for i in range(1, max_col + 1):\n",
    "    cell_obj = sheet_obj.cell(row = 2, column = i)\n",
    "    print(cell_obj.value, end = \" \")"
   ]
  },
  {
   "cell_type": "code",
   "execution_count": 46,
   "id": "867c0196",
   "metadata": {},
   "outputs": [
    {
     "ename": "TypeError",
     "evalue": "'NoneType' object is not callable",
     "output_type": "error",
     "traceback": [
      "\u001b[1;31m---------------------------------------------------------------------------\u001b[0m",
      "\u001b[1;31mTypeError\u001b[0m                                 Traceback (most recent call last)",
      "Input \u001b[1;32mIn [46]\u001b[0m, in \u001b[0;36m<cell line: 18>\u001b[1;34m()\u001b[0m\n\u001b[0;32m     15\u001b[0m c1 \u001b[38;5;241m=\u001b[39m sheet\u001b[38;5;241m.\u001b[39mcell(row \u001b[38;5;241m=\u001b[39m \u001b[38;5;241m1\u001b[39m, column \u001b[38;5;241m=\u001b[39m \u001b[38;5;241m1\u001b[39m)\n\u001b[0;32m     17\u001b[0m \u001b[38;5;66;03m# writing values to cell\u001b[39;00m\n\u001b[1;32m---> 18\u001b[0m \u001b[43mc1\u001b[49m\u001b[38;5;241;43m.\u001b[39;49m\u001b[43mvalue\u001b[49m\u001b[43m(\u001b[49m\u001b[38;5;124;43m\"\u001b[39;49m\u001b[38;5;124;43mAbhishek\u001b[39;49m\u001b[38;5;124;43m\"\u001b[39;49m\u001b[43m)\u001b[49m\n\u001b[0;32m     20\u001b[0m c2 \u001b[38;5;241m=\u001b[39m sheet\u001b[38;5;241m.\u001b[39mcell(row \u001b[38;5;241m=\u001b[39m \u001b[38;5;241m1\u001b[39m, column \u001b[38;5;241m=\u001b[39m \u001b[38;5;241m2\u001b[39m)\n\u001b[0;32m     21\u001b[0m c2\u001b[38;5;241m.\u001b[39mvalue \u001b[38;5;241m=\u001b[39m \u001b[38;5;124m\"\u001b[39m\u001b[38;5;124mAryan\u001b[39m\u001b[38;5;124m\"\u001b[39m\n",
      "\u001b[1;31mTypeError\u001b[0m: 'NoneType' object is not callable"
     ]
    }
   ],
   "source": [
    "# import openpyxl module\n",
    "import openpyxl\n",
    "\n",
    "# call a workbook() function of openpyxl\n",
    "# to create a new blank workbook object\n",
    "wb = openpyxl.Workbook()\n",
    "\n",
    "#Get workbook active sheet from the active attribute\n",
    "sheet = wb.active\n",
    "\n",
    "#cell object also have row, column and coordinate attributes that provide location information for the cell.\n",
    "\n",
    "# Note : The first row or Column integer is 1, not 0.\n",
    "# Cell object is created by using sheet object's cell() method.\n",
    "c1 = sheet.cell(row = 1, column = 1)\n",
    "\n",
    "# writing values to cell\n",
    "c1.value(\"Abhishek\")\n",
    "\n",
    "c2 = sheet.cell(row = 1, column = 2)\n",
    "c2.value = \"Aryan\"\n",
    "\n",
    "c2 = sheet['A2']\n",
    "c2.value = \"Yadav\"\n",
    "\n",
    "c2 = sheet['B2']\n",
    "c2.value = \"Sharma\"\n",
    "\n",
    "c2 = sheet['A3']\n",
    "c2.value = \"Neemrana\"\n",
    "\n",
    "c2 = sheet['B2']\n",
    "c2.value = \"Bikaner\"\n",
    "\n",
    "wb.save('demo.xlsx')"
   ]
  },
  {
   "cell_type": "code",
   "execution_count": null,
   "id": "898426fa",
   "metadata": {},
   "outputs": [],
   "source": []
  }
 ],
 "metadata": {
  "kernelspec": {
   "display_name": "Python 3 (ipykernel)",
   "language": "python",
   "name": "python3"
  },
  "language_info": {
   "codemirror_mode": {
    "name": "ipython",
    "version": 3
   },
   "file_extension": ".py",
   "mimetype": "text/x-python",
   "name": "python",
   "nbconvert_exporter": "python",
   "pygments_lexer": "ipython3",
   "version": "3.9.12"
  }
 },
 "nbformat": 4,
 "nbformat_minor": 5
}
