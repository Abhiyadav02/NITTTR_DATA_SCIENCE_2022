{
 "cells": [
  {
   "cell_type": "code",
   "execution_count": 4,
   "id": "8dbb1989",
   "metadata": {},
   "outputs": [],
   "source": [
    "import sys"
   ]
  },
  {
   "cell_type": "code",
   "execution_count": 5,
   "id": "310a0688",
   "metadata": {},
   "outputs": [
    {
     "name": "stdout",
     "output_type": "stream",
     "text": [
      "3.9.12 (main, Apr  4 2022, 05:22:27) [MSC v.1916 64 bit (AMD64)]\n",
      "sys.version_info(major=3, minor=9, micro=12, releaselevel='final', serial=0)\n"
     ]
    }
   ],
   "source": [
    "print(sys.version)\n",
    "print(sys.version_info)"
   ]
  },
  {
   "cell_type": "code",
   "execution_count": 3,
   "id": "276c39cf",
   "metadata": {},
   "outputs": [
    {
     "name": "stdout",
     "output_type": "stream",
     "text": [
      "Enter the number to search : 3\n",
      "Not Found\n",
      "Not Found\n",
      "3\n",
      "Not Found\n",
      "Not Found\n",
      "Not Found\n",
      "Not Found\n",
      "Not Found\n"
     ]
    }
   ],
   "source": [
    "list = [1,2,3,4,5,6,7,8]\n",
    "\n",
    "a = int(input(\"Enter the number to search : \"))\n",
    "\n",
    "for i in list:\n",
    "    if(i == a):\n",
    "        print(i)\n",
    "    else:\n",
    "        print('Not Found')\n"
   ]
  },
  {
   "cell_type": "code",
   "execution_count": 12,
   "id": "dbcdf740",
   "metadata": {},
   "outputs": [
    {
     "name": "stdout",
     "output_type": "stream",
     "text": [
      "Display complete list :  [50, 60, 70, 75, 80]\n",
      "Displaylist using loop\n",
      "55\n",
      "65\n",
      "75\n",
      "80\n",
      "85\n",
      "\n",
      "First element = 50, Last = 80\n",
      "First element : 50, Last : 80\n",
      "First element : 50, Last : 80\n"
     ]
    }
   ],
   "source": [
    "marks = [50,60,70,75,80]\n",
    "print(\"Display complete list : \", marks)\n",
    "\n",
    "#display element of list using loop\n",
    "print(\"Displaylist using loop\")\n",
    "for num in marks:\n",
    "    print(num + 5)\n",
    "print()\n",
    "\n",
    "#display first and last element\n",
    "print('First element = %d, Last = %d' %(marks[0],marks[4]))\n",
    "\n",
    "#Alternate method ---- First\n",
    "len_markslist = len(marks) - 1\n",
    "print('First element : %d, Last : %d' %(marks[0],marks[len_markslist]))\n",
    "\n",
    "#Alternate method --Second\n",
    "print('First element : %d, Last : %d' %(marks[0],marks[-1]))"
   ]
  },
  {
   "cell_type": "code",
   "execution_count": 15,
   "id": "73a2148f",
   "metadata": {},
   "outputs": [
    {
     "name": "stdout",
     "output_type": "stream",
     "text": [
      "[1, 'Shivam', 2, 'Gourav', 3, 'Aryan', 4, 'Abhishek']\n",
      "First : 1, Last : Abhishek\n"
     ]
    }
   ],
   "source": [
    "#list created hetrogenous\n",
    "stu_list = [1, \"Shivam\", 2, \"Gourav\", 3, \"Aryan\", 4, \"Abhishek\"]\n",
    "print(stu_list)\n",
    "print('First : %sst, Last : %s' %(stu_list[0],stu_list[-1]))"
   ]
  },
  {
   "cell_type": "code",
   "execution_count": 26,
   "id": "37984584",
   "metadata": {},
   "outputs": [
    {
     "name": "stdout",
     "output_type": "stream",
     "text": [
      "[10, 12, 14, 16, 18]\n"
     ]
    }
   ],
   "source": [
    "#create a numeric list using range method\n",
    "l = []\n",
    "for i in range(10,20,2):\n",
    "    l.append(i)\n",
    "print(l)"
   ]
  },
  {
   "cell_type": "code",
   "execution_count": 28,
   "id": "169b2c87",
   "metadata": {},
   "outputs": [
    {
     "name": "stdout",
     "output_type": "stream",
     "text": [
      "[3, 5, 7]\n",
      "Element of list fam2 :  [['Aditya', 11], ['Sristhi', 13], ['Rishu', 21], ['Uma', 23]]\n",
      "Second element of nested third list in num_2 :  21\n"
     ]
    }
   ],
   "source": [
    "#list Slicing\n",
    "num = [1,2,3,4,5,6,7,8,9]\n",
    "\n",
    "print(num[2:8:2])\n",
    "\n",
    "num_2 = [[\"Aditya\",11], [\"Sristhi\",13], [\"Rishu\",21], [\"Uma\", 23]]\n",
    "print(\"Element of list fam2 : \", num_2)\n",
    "print(\"Second element of nested third list in num_2 : \", num_2[2][1])"
   ]
  },
  {
   "cell_type": "code",
   "execution_count": 31,
   "id": "5f864fa8",
   "metadata": {},
   "outputs": [
    {
     "name": "stdout",
     "output_type": "stream",
     "text": [
      "Elements of list num :  [1, 2, 3, 4, 5, 6, 7, 8, 10]\n",
      "Display updated value :  [50, 65, 75, 80, 90]\n"
     ]
    }
   ],
   "source": [
    "#updating a list\n",
    "num[8] = 10\n",
    "print(\"Elements of list num : \", num)\n",
    "\n",
    "#Another example\n",
    "marks = [50,60,70,80,90]\n",
    "marks[1:3] = 65,75\n",
    "print(\"Display updated value : \", marks)"
   ]
  },
  {
   "cell_type": "code",
   "execution_count": 32,
   "id": "251de0e0",
   "metadata": {},
   "outputs": [
    {
     "name": "stdout",
     "output_type": "stream",
     "text": [
      "[50, 65, 75, 90]\n",
      "Enter the element to be removed51\n",
      "Element to be removed is not found in th list\n"
     ]
    }
   ],
   "source": [
    "#Deletion in list\n",
    "del marks[3] # always check for index in range before deleting an element\n",
    "print(marks)\n",
    "\n",
    "#Another method\n",
    "toberemoved = int(input('Enter the element to be removed'))\n",
    "if toberemoved in marks:\n",
    "    print('Element is present in list and can be removed')\n",
    "    marks.remove(toberemoved)  # pass the element to be removed from list\n",
    "    print(marks)\n",
    "else:\n",
    "    print(\"Element to be removed is not found in th list\")"
   ]
  },
  {
   "cell_type": "code",
   "execution_count": 34,
   "id": "0bcfa327",
   "metadata": {},
   "outputs": [
    {
     "name": "stdout",
     "output_type": "stream",
     "text": [
      "ouput after concatination lists [10, 20, 30, 40, 11, 12, 13, 14]\n"
     ]
    }
   ],
   "source": [
    "#concatination of list\n",
    "s1 = [10,20,30,40]\n",
    "s2 = [11,12,13,14]\n",
    "print(\"ouput after concatination lists\", s1 + s2)"
   ]
  },
  {
   "cell_type": "code",
   "execution_count": 35,
   "id": "48b2a198",
   "metadata": {},
   "outputs": [
    {
     "name": "stdout",
     "output_type": "stream",
     "text": [
      "2\n"
     ]
    }
   ],
   "source": [
    "#Finding an index of a particular item in list\n",
    "s4 = [2,3,4,5,6,7]\n",
    "\n",
    "ins = s4.index(4)\n",
    "print(ins)\n",
    "\n",
    "s4."
   ]
  },
  {
   "cell_type": "code",
   "execution_count": null,
   "id": "9a954768",
   "metadata": {},
   "outputs": [],
   "source": []
  }
 ],
 "metadata": {
  "kernelspec": {
   "display_name": "Python 3 (ipykernel)",
   "language": "python",
   "name": "python3"
  },
  "language_info": {
   "codemirror_mode": {
    "name": "ipython",
    "version": 3
   },
   "file_extension": ".py",
   "mimetype": "text/x-python",
   "name": "python",
   "nbconvert_exporter": "python",
   "pygments_lexer": "ipython3",
   "version": "3.9.12"
  }
 },
 "nbformat": 4,
 "nbformat_minor": 5
}
