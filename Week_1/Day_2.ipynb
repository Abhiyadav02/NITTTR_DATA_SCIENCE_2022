{
 "cells": [
  {
   "cell_type": "markdown",
   "id": "03318603",
   "metadata": {},
   "source": [
    "### String and Operators"
   ]
  },
  {
   "cell_type": "code",
   "execution_count": 1,
   "id": "4d310aba",
   "metadata": {},
   "outputs": [],
   "source": [
    "#Python Operators"
   ]
  },
  {
   "cell_type": "code",
   "execution_count": 3,
   "id": "732f8a25",
   "metadata": {},
   "outputs": [
    {
     "name": "stdout",
     "output_type": "stream",
     "text": [
      "a :  90 , b :  30  , c :  120  , d :  60  , e :  2700  , f :  3.0  , g :  0  , h :  900  , i :  3\n"
     ]
    }
   ],
   "source": [
    "a = 90\n",
    "b = 30\n",
    "x = 2\n",
    "\n",
    "c = a + b\n",
    "d = a - b\n",
    "e = a * b\n",
    "f = a / b\n",
    "g = a % b\n",
    "h = b ** x\n",
    "i = a // b\n",
    "\n",
    "print(\"a : \",a,\", b : \",b,\" , c : \",c,\" , d : \",d,\" , e : \",e,\" , f : \",f,\" , g : \",g,\" , h : \",h,\" , i : \",i)"
   ]
  },
  {
   "cell_type": "code",
   "execution_count": 4,
   "id": "ca092b6c",
   "metadata": {},
   "outputs": [],
   "source": [
    "#comparison Operators\n"
   ]
  },
  {
   "cell_type": "code",
   "execution_count": 7,
   "id": "4990a7bb",
   "metadata": {},
   "outputs": [
    {
     "name": "stdout",
     "output_type": "stream",
     "text": [
      "a = :  10\n",
      "a += :  20\n",
      "a -= :  15\n",
      "a *= :  225\n",
      "a %= :  5\n",
      "a **= :  25\n",
      "a //= :  5\n"
     ]
    }
   ],
   "source": [
    "#Assignment Operator\n",
    "a  = 10\n",
    "print(\"a = : \",a)\n",
    "\n",
    "a += 10\n",
    "print(\"a += : \",a)\n",
    "\n",
    "a -= 5\n",
    "print(\"a -= : \",a)\n",
    "\n",
    "a *= 15\n",
    "print(\"a *= : \",a)\n",
    "\n",
    "a %= 10\n",
    "print(\"a %= : \",a)\n",
    "\n",
    "a **= 2\n",
    "print(\"a **= : \",a)\n",
    "\n",
    "a //= 5\n",
    "print(\"a //= : \",a)"
   ]
  },
  {
   "cell_type": "code",
   "execution_count": 8,
   "id": "05de2f4d",
   "metadata": {},
   "outputs": [],
   "source": [
    "#logical Operator\n",
    "\n",
    "a = 15\n",
    "b = 10\n",
    "\n",
    "if a <= 15 and b >= 15:\n",
    "    print(a)"
   ]
  },
  {
   "cell_type": "code",
   "execution_count": 9,
   "id": "d3bd9597",
   "metadata": {},
   "outputs": [],
   "source": [
    "#Membership Operators"
   ]
  },
  {
   "cell_type": "code",
   "execution_count": 15,
   "id": "d56c6a44",
   "metadata": {},
   "outputs": [
    {
     "name": "stdout",
     "output_type": "stream",
     "text": [
      "Single Quotes\n",
      "Hello\n",
      "<class 'str'>\n",
      "Double Quotes\n",
      "Hello Shivam\n",
      "<class 'str'>\n",
      "Triple Quotes\n",
      "Gourav 6 __i, __i, __i, __i, __i, __i\n",
      "<class 'str'>\n",
      "Fourth Quotes\n",
      "They said, \"Are you Pass Shivam?????\"\n",
      "<class 'str'>\n"
     ]
    }
   ],
   "source": [
    "#String Creation\n",
    "\n",
    "print('Single Quotes')\n",
    "Str1 = 'Hello'\n",
    "print(Str1)\n",
    "print(type(Str1))\n",
    "\n",
    "print('Double Quotes')\n",
    "Str2 = 'Hello Shivam'\n",
    "print(Str2)\n",
    "print(type(Str2))\n",
    "\n",
    "print('Triple Quotes')\n",
    "Str3 = '''Gourav 6 __i, __i, __i, __i, __i, __i'''\n",
    "print(Str3)\n",
    "print(type(Str3))\n",
    "\n",
    "print('Fourth Quotes')\n",
    "Str4 = 'They said, \"Are you Pass Shivam?????\"'\n",
    "print(Str4)\n",
    "print(type(Str4))"
   ]
  },
  {
   "cell_type": "markdown",
   "id": "c3b514f5",
   "metadata": {},
   "source": [
    "### Strings are immutable we cannot change string"
   ]
  },
  {
   "cell_type": "code",
   "execution_count": 22,
   "id": "0e29d351",
   "metadata": {},
   "outputs": [
    {
     "name": "stdout",
     "output_type": "stream",
     "text": [
      "Hello\n",
      "<class 'str'>\n",
      "H\n",
      "o\n",
      "Hello\n",
      "ello\n",
      "Hello\n",
      "o\n",
      "l\n",
      "lo\n",
      "ell\n",
      "Hel\n",
      "olleH\n",
      "Shivam\n",
      "after deleting string\n"
     ]
    },
    {
     "ename": "NameError",
     "evalue": "name 'str6' is not defined",
     "output_type": "error",
     "traceback": [
      "\u001b[1;31m---------------------------------------------------------------------------\u001b[0m",
      "\u001b[1;31mNameError\u001b[0m                                 Traceback (most recent call last)",
      "Input \u001b[1;32mIn [22]\u001b[0m, in \u001b[0;36m<cell line: 35>\u001b[1;34m()\u001b[0m\n\u001b[0;32m     33\u001b[0m \u001b[38;5;28;01mdel\u001b[39;00m str6\n\u001b[0;32m     34\u001b[0m \u001b[38;5;28mprint\u001b[39m(\u001b[38;5;124m\"\u001b[39m\u001b[38;5;124mafter deleting string\u001b[39m\u001b[38;5;124m\"\u001b[39m)\n\u001b[1;32m---> 35\u001b[0m \u001b[38;5;28mprint\u001b[39m(\u001b[43mstr6\u001b[49m)\n",
      "\u001b[1;31mNameError\u001b[0m: name 'str6' is not defined"
     ]
    }
   ],
   "source": [
    "#String\n",
    "str5 = 'Hello'\n",
    "\n",
    "print(str5)\n",
    "print(type(str5))\n",
    "\n",
    "#String Indexing\n",
    "print(str5[0])\n",
    "print(str5[4])\n",
    "#print(str5[7])  #Sting index out of range error\n",
    "\n",
    "\n",
    "#String Slicing\n",
    "print(str5[0:])\n",
    "print(str5[1:5])\n",
    "print(str5[:])\n",
    "\n",
    "#Negative Slicing\n",
    "\n",
    "print(str5[-1])\n",
    "print(str5[-3])\n",
    "print(str5[-2:])\n",
    "print(str5[-4:-1])\n",
    "print(str5[-7:-2])\n",
    "\n",
    "#Reversing the String\n",
    "print(str5[::-1])\n",
    "#print(str5[-12])  #string index out off range error\n",
    "\n",
    "#Deleting of string\n",
    "str6= \"Shivam\"\n",
    "print(str6)\n",
    "del str6\n",
    "print(\"after deleting string\")\n",
    "print(str6)"
   ]
  },
  {
   "cell_type": "code",
   "execution_count": 24,
   "id": "12d5c449",
   "metadata": {},
   "outputs": [
    {
     "name": "stdout",
     "output_type": "stream",
     "text": [
      "HelloHelloHello\n",
      "Hello world\n",
      "o\n",
      "ll\n",
      "False\n",
      "True\n",
      "://python37\n",
      "The String str2 :  world\n"
     ]
    }
   ],
   "source": [
    "str1 = \"Hello\"\n",
    "str2 = \" world\"\n",
    "\n",
    "print(str1*3)\n",
    "print(str1+str2)\n",
    "print(str1[4])\n",
    "print(str1[2:4])\n",
    "print('w' in str1)\n",
    "print('wo' not in str1)\n",
    "print(r'://python37')\n",
    "print(\"The String str2 : %s\"%(str2))"
   ]
  },
  {
   "cell_type": "code",
   "execution_count": 26,
   "id": "12acdd19",
   "metadata": {},
   "outputs": [
    {
     "name": "stdout",
     "output_type": "stream",
     "text": [
      "Hello World \n",
      "\n",
      "Hello World \t welcome\n",
      "Hello World \\ welcome\n",
      "Hello World ' welcome\n",
      "Hello World \\\" welcome\n",
      "Hello World \u0007 welcome\n",
      "Hello World \b welcome\n",
      "Hello World \f",
      " welcome\n",
      "Hello World \n",
      " welcome\n",
      "Hello World \r",
      " welcome\n",
      "Hello World \t welcome\n"
     ]
    }
   ],
   "source": [
    "#Python String formatting\n",
    "\n",
    "print(\"Hello World \\n\")\n",
    "print(\"Hello World \\t welcome\")\n",
    "print(\"Hello World \\\\ welcome\")\n",
    "print(\"Hello World \\' welcome\")\n",
    "print('Hello World \\\\\" welcome')\n",
    "print(\"Hello World \\a welcome\")\n",
    "print(\"Hello World \\b welcome\")\n",
    "print(\"Hello World \\f welcome\")\n",
    "print(\"Hello World \\n welcome\")\n",
    "print(\"Hello World \\r welcome\")\n",
    "print(\"Hello World \\t welcome\")"
   ]
  },
  {
   "cell_type": "code",
   "execution_count": 28,
   "id": "2f8ea6e9",
   "metadata": {},
   "outputs": [
    {
     "name": "stdout",
     "output_type": "stream",
     "text": [
      "Hi, I am integer. My value is 10 \n",
      " Hi, I am float number. My value is 4.50 \n",
      " Hi, I am string. My value is checkpoint\n"
     ]
    }
   ],
   "source": [
    "int   = 10;\n",
    "float = 4.5\n",
    "str = 'checkpoint'\n",
    "\n",
    "print(\"Hi, I am integer. My value is %d \\n Hi, I am float number. My value is %.2f \\n Hi, I am string. My value is %s\"%(int, float, str))"
   ]
  },
  {
   "cell_type": "code",
   "execution_count": 29,
   "id": "9672b843",
   "metadata": {},
   "outputs": [
    {
     "data": {
      "text/plain": [
       "False"
      ]
     },
     "execution_count": 29,
     "metadata": {},
     "output_type": "execute_result"
    }
   ],
   "source": [
    "list1 = [\"apple\", \"banana\" , \"orange\"]\n",
    "list2 = [\"tomatoes\", \"beans\", \"onions\"]\n",
    "\n",
    "list3 = list1\n",
    "list3 is list1\n",
    "list2 is list1"
   ]
  },
  {
   "cell_type": "code",
   "execution_count": null,
   "id": "981100e7",
   "metadata": {},
   "outputs": [],
   "source": []
  }
 ],
 "metadata": {
  "kernelspec": {
   "display_name": "Python 3 (ipykernel)",
   "language": "python",
   "name": "python3"
  },
  "language_info": {
   "codemirror_mode": {
    "name": "ipython",
    "version": 3
   },
   "file_extension": ".py",
   "mimetype": "text/x-python",
   "name": "python",
   "nbconvert_exporter": "python",
   "pygments_lexer": "ipython3",
   "version": "3.9.12"
  }
 },
 "nbformat": 4,
 "nbformat_minor": 5
}
