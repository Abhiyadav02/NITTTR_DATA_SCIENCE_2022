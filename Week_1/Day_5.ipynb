{
 "cells": [
  {
   "cell_type": "markdown",
   "id": "79ace7f8",
   "metadata": {},
   "source": [
    "### conda install -c conda-forge jupyterthemes\n",
    "### jt -l\n",
    "### jt -t theme name"
   ]
  },
  {
   "cell_type": "code",
   "execution_count": 1,
   "id": "7b9e2e1a",
   "metadata": {},
   "outputs": [
    {
     "name": "stdout",
     "output_type": "stream",
     "text": [
      "name of the sutdent :  Abhishek yadav\n",
      "roll no of the student :  74\n",
      "course of the student :  Data Science\n"
     ]
    }
   ],
   "source": [
    "#dictionary\n",
    "dict_1 = {\"name\":\"Abhishek yadav\", \"roll_no\":74, \"Course\":\"Data Science\"}\n",
    "#print(\"Number of keys in DIct_1 : \",dict_1.keys())\n",
    "#print(\"Number of values in DIct_1 : \",dict_1.values())\n",
    "#print(\"Number of items in dict_1 : \",dict_1.items())\n",
    "print(\"name of the sutdent : \",dict_1[\"name\"])\n",
    "print(\"roll no of the student : \",dict_1[\"roll_no\"])\n",
    "print(\"course of the student : \",dict_1[\"Course\"])"
   ]
  },
  {
   "cell_type": "code",
   "execution_count": 2,
   "id": "9b22316a",
   "metadata": {},
   "outputs": [
    {
     "name": "stdout",
     "output_type": "stream",
     "text": [
      "3\n"
     ]
    }
   ],
   "source": [
    "n = len(dict_1)\n",
    "print(n)"
   ]
  },
  {
   "cell_type": "code",
   "execution_count": 3,
   "id": "b060c0c2",
   "metadata": {},
   "outputs": [
    {
     "name": "stdout",
     "output_type": "stream",
     "text": [
      "{'name': 'Abhishek yadav', 'roll_no': 74, 'Course': 'Data Science', 'address': 'India'}\n"
     ]
    }
   ],
   "source": [
    "dict_1['address'] = 'India'\n",
    "print(dict_1)"
   ]
  },
  {
   "cell_type": "code",
   "execution_count": 4,
   "id": "8ae23e98",
   "metadata": {},
   "outputs": [
    {
     "name": "stdout",
     "output_type": "stream",
     "text": [
      "{'name': 'Abhishek yadav', 'roll_no': 74, 'address': 'India'}\n"
     ]
    }
   ],
   "source": [
    "del dict_1['Course']\n",
    "print(dict_1)"
   ]
  },
  {
   "cell_type": "code",
   "execution_count": 5,
   "id": "00e10f74",
   "metadata": {},
   "outputs": [
    {
     "name": "stdout",
     "output_type": "stream",
     "text": [
      "{'name': 'Abhishek yadav', 'roll_no': 74, 'address': 'India', 'Gender': 'Male'}\n"
     ]
    }
   ],
   "source": [
    "if('Gender' not in dict_1):\n",
    "    dict_1['Gender'] = 'Male'\n",
    "else:\n",
    "    print('The key is already exists')\n",
    "\n",
    "print(dict_1)"
   ]
  },
  {
   "cell_type": "code",
   "execution_count": 6,
   "id": "e8256aad",
   "metadata": {},
   "outputs": [
    {
     "name": "stdout",
     "output_type": "stream",
     "text": [
      "True\n",
      "False\n",
      "True\n"
     ]
    }
   ],
   "source": [
    "print('Gender' in dict_1)\n",
    "print('Id' in dict_1)\n",
    "print('Id' not in dict_1)"
   ]
  },
  {
   "cell_type": "code",
   "execution_count": 7,
   "id": "a5991a2d",
   "metadata": {},
   "outputs": [
    {
     "name": "stdout",
     "output_type": "stream",
     "text": [
      "{'Name': 'Ankit', 'Id': 1, 'Marks': 398}\n"
     ]
    }
   ],
   "source": [
    "dict2 = {'Name':'Abhishek', 'Id':1, 'Name':'Ankit', 'Marks':398}\n",
    "print(dict2)"
   ]
  },
  {
   "cell_type": "code",
   "execution_count": 12,
   "id": "d1ef2429",
   "metadata": {},
   "outputs": [
    {
     "name": "stdout",
     "output_type": "stream",
     "text": [
      "{1: {'name': 'Abhishek', 'age': 20, 'gender': 'Male'}, 2: {'name': 'Shivam', 'age': 21, 'gender': 'Mixed'}}\n"
     ]
    }
   ],
   "source": [
    "people = {1: {'name':'Abhishek','age':20,'gender':'Male'}, 2:{'name':'Shivam','age':21,'gender':'Mixed'}}\n",
    "print(people)"
   ]
  },
  {
   "cell_type": "code",
   "execution_count": 13,
   "id": "8e6ea128",
   "metadata": {},
   "outputs": [
    {
     "name": "stdout",
     "output_type": "stream",
     "text": [
      "Abhishek\n",
      "Male\n",
      "21\n"
     ]
    }
   ],
   "source": [
    "print(people[1]['name'])\n",
    "print(people[1]['gender'])\n",
    "print(people[2]['age'])"
   ]
  },
  {
   "cell_type": "code",
   "execution_count": 17,
   "id": "473e44f0",
   "metadata": {},
   "outputs": [
    {
     "name": "stdout",
     "output_type": "stream",
     "text": [
      "{1: {'name': 'Abhishek', 'age': 20, 'gender': 'Male'}, 2: {'name': 'Shivam', 'age': 21, 'gender': 'Mixed'}, 3: {'name': 'gourav', 'age': 21, 'gender': 'male', 'maried': 'yes almost'}}\n"
     ]
    }
   ],
   "source": [
    "people[3] = {'name' : 'gourav','age' : 21,'gender' : 'male','maried':'yes almost'}\n",
    "print(people)"
   ]
  },
  {
   "cell_type": "code",
   "execution_count": 20,
   "id": "d82d4799",
   "metadata": {},
   "outputs": [
    {
     "ename": "KeyError",
     "evalue": "'maried'",
     "output_type": "error",
     "traceback": [
      "\u001b[1;31m---------------------------------------------------------------------------\u001b[0m",
      "\u001b[1;31mKeyError\u001b[0m                                  Traceback (most recent call last)",
      "Input \u001b[1;32mIn [20]\u001b[0m, in \u001b[0;36m<cell line: 1>\u001b[1;34m()\u001b[0m\n\u001b[1;32m----> 1\u001b[0m \u001b[38;5;28;01mdel\u001b[39;00m people[\u001b[38;5;241m3\u001b[39m][\u001b[38;5;124m'\u001b[39m\u001b[38;5;124mmaried\u001b[39m\u001b[38;5;124m'\u001b[39m]\n\u001b[0;32m      2\u001b[0m \u001b[38;5;28mprint\u001b[39m(people)\n",
      "\u001b[1;31mKeyError\u001b[0m: 'maried'"
     ]
    }
   ],
   "source": [
    "del people[3]['maried']"
   ]
  },
  {
   "cell_type": "code",
   "execution_count": 21,
   "id": "7aa06a01",
   "metadata": {},
   "outputs": [
    {
     "name": "stdout",
     "output_type": "stream",
     "text": [
      "{1: {'name': 'Abhishek', 'age': 20, 'gender': 'Male'}, 2: {'name': 'Shivam', 'age': 21, 'gender': 'Mixed'}, 3: {'name': 'gourav', 'age': 21, 'gender': 'male'}}\n"
     ]
    }
   ],
   "source": [
    "print(people)"
   ]
  },
  {
   "cell_type": "code",
   "execution_count": 29,
   "id": "52937816",
   "metadata": {},
   "outputs": [
    {
     "data": {
      "image/png": "[encoded data removed]",
      "text/plain": [
       "<Figure size 432x288 with 1 Axes>"
      ]
     },
     "metadata": {},
     "output_type": "display_data"
    }
   ],
   "source": [
    "#Draw a undirected graph using list of nodes and edges\n",
    "import networkx as nx\n",
    "#import matplotlib.pyplot as plt\n",
    "n = [1,2,3,4,5,6]\n",
    "e = [(1,2),(2,3),(1,4),(1,5),(2,4),(4,5),(6,5),(6,3)]\n",
    "G = nx.Graph()\n",
    "G.add_nodes_from(list(n))\n",
    "G.add_edges_from(list(e))\n",
    "nx.draw(G, with_labels = .2, node_color = 'red')"
   ]
  },
  {
   "cell_type": "code",
   "execution_count": 34,
   "id": "8c9df29a",
   "metadata": {},
   "outputs": [
    {
     "data": {
      "image/png": "[encoded data removed]",
      "text/plain": [
       "<Figure size 432x288 with 1 Axes>"
      ]
     },
     "metadata": {},
     "output_type": "display_data"
    }
   ],
   "source": [
    "persons = {1:'Aryan',2:'Uma',3:'Shivam',4:'Nikita',5:'Gourav',6:'Aarushi'}\n",
    "G1 = nx.relabel_nodes(G,persons)\n",
    "nx.draw(G1, node_size = 5000, node_color = 'Yellow', with_labels = 1)"
   ]
  },
  {
   "cell_type": "code",
   "execution_count": 36,
   "id": "5c775e79",
   "metadata": {
    "scrolled": false
   },
   "outputs": [
    {
     "name": "stdout",
     "output_type": "stream",
     "text": [
      "{'aryan', 'gourav', 'abhishek', 'shivam'}\n",
      "4\n"
     ]
    }
   ],
   "source": [
    "#sets\n",
    "thisset1 = {'abhishek', 'aryan', 'gourav', 'shivam'}\n",
    "print(thisset1)\n",
    "print(len(thisset1))"
   ]
  },
  {
   "cell_type": "code",
   "execution_count": null,
   "id": "d3454736",
   "metadata": {
    "scrolled": true
   },
   "outputs": [],
   "source": [
    "for x in thisset1:\n",
    "    print(x)"
   ]
  },
  {
   "cell_type": "code",
   "execution_count": null,
   "id": "cd60ce70",
   "metadata": {},
   "outputs": [],
   "source": [
    "combined_list = ['Aryan','gourav', 'shivam', 'naveen', 'Abhishek']\n",
    "count = 0\n",
    "for word in combined_list:\n",
    "    if word.startswith('A'):\n",
    "        count = count + 1\n",
    "print('Number of words starting with A : ', count)"
   ]
  },
  {
   "cell_type": "code",
   "execution_count": null,
   "id": "81702b10",
   "metadata": {},
   "outputs": [],
   "source": []
  }
 ],
 "metadata": {
  "kernelspec": {
   "display_name": "Python 3 (ipykernel)",
   "language": "python",
   "name": "python3"
  },
  "language_info": {
   "codemirror_mode": {
    "name": "ipython",
    "version": 3
   },
   "file_extension": ".py",
   "mimetype": "text/x-python",
   "name": "python",
   "nbconvert_exporter": "python",
   "pygments_lexer": "ipython3",
   "version": "3.9.12"
  }
 },
 "nbformat": 4,
 "nbformat_minor": 5
}
