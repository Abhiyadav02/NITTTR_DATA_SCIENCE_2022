{
 "cells": [
  {
   "cell_type": "code",
   "execution_count": 1,
   "metadata": {
    "id": "bQ0bJ2wxBVb1"
   },
   "outputs": [],
   "source": [
    "#Read a CSV(age, marks) file find mean, median, mode, median_high, median_low, range, var, cov."
   ]
  },
  {
   "cell_type": "code",
   "execution_count": 2,
   "metadata": {
    "colab": {
     "base_uri": "https://localhost:8080/"
    },
    "id": "SizPTobwBkg8",
    "outputId": "3300ce0a-89f6-472c-f24e-cc6c0e2b990b"
   },
   "outputs": [
    {
     "name": "stdout",
     "output_type": "stream",
     "text": [
      "        Name  Age  Marks\n",
      "0   Abhishek   20     79\n",
      "1      Aryan   21     81\n",
      "2     Shivam   20     75\n",
      "3     Gourav   22     89\n",
      "4      Ankit   17     80\n",
      "5     Simran   18     78\n",
      "6      Sahil   18     69\n",
      "7      Rahul   21     79\n",
      "8      Umesh   22     92\n",
      "9     Sachin   18     60\n",
      "10     Sumit   21     65\n",
      "11    Chetan   21     80\n",
      "12    Yogesh   21     77\n",
      "13   Sourabh   27     69\n"
     ]
    }
   ],
   "source": [
    "#Reading CSV file\n",
    "import pandas as pd\n",
    "import numpy as np\n",
    "\n",
    "df = pd.read_csv(\"/content/stu_data.csv\")\n",
    "print(df)"
   ]
  },
  {
   "cell_type": "code",
   "execution_count": 7,
   "metadata": {
    "colab": {
     "base_uri": "https://localhost:8080/"
    },
    "id": "YWNXUNwQBpfv",
    "outputId": "212ac064-08da-4776-8865-1c41a9f65b5e"
   },
   "outputs": [
    {
     "name": "stdout",
     "output_type": "stream",
     "text": [
      "    Age  Marks\n",
      "0    20     79\n",
      "1    21     81\n",
      "2    20     75\n",
      "3    22     89\n",
      "4    17     80\n",
      "5    18     78\n",
      "6    18     69\n",
      "7    21     79\n",
      "8    22     92\n",
      "9    18     60\n",
      "10   21     65\n",
      "11   21     80\n",
      "12   21     77\n",
      "13   27     69\n"
     ]
    }
   ],
   "source": [
    "new_df = df.drop(\"Name\", axis='columns')\n",
    "print(new_df)"
   ]
  },
  {
   "cell_type": "code",
   "execution_count": 12,
   "metadata": {
    "colab": {
     "base_uri": "https://localhost:8080/"
    },
    "id": "bif2fdGJBuu6",
    "outputId": "7c41829a-c75b-4d78-80f3-5204d35a2282"
   },
   "outputs": [
    {
     "name": "stdout",
     "output_type": "stream",
     "text": [
      "the mean of Age is: 20.5\n",
      "the mean of Marks is: 76.64285714285714\n"
     ]
    }
   ],
   "source": [
    "#MEAN\n",
    "import statistics \n",
    "print(\"the mean of Age is: \", end= \"\")\n",
    "print(statistics.mean(new_df.Age))\n",
    "\n",
    "print(\"the mean of Marks is: \", end= \"\")\n",
    "print(statistics.mean(new_df.Marks))"
   ]
  },
  {
   "cell_type": "code",
   "execution_count": 13,
   "metadata": {
    "colab": {
     "base_uri": "https://localhost:8080/"
    },
    "id": "i8bf6HcyC_Ko",
    "outputId": "20ae627f-326f-41d5-8e52-68afba3a3adc"
   },
   "outputs": [
    {
     "name": "stdout",
     "output_type": "stream",
     "text": [
      "Median of Age is 21.0\n",
      "Median of Marks is 78.5\n"
     ]
    }
   ],
   "source": [
    "#Median\n",
    "from statistics import median\n",
    "from fractions import Fraction as fr\n",
    "print(\"Median of Age is % s\" % (median(new_df.Age)))\n",
    "print(\"Median of Marks is % s\" % (median(new_df.Marks)))"
   ]
  },
  {
   "cell_type": "code",
   "execution_count": 17,
   "metadata": {
    "colab": {
     "base_uri": "https://localhost:8080/"
    },
    "id": "EShzm2-SKm0g",
    "outputId": "7df6e888-7457-4aa5-b991-22aff0e8a96b"
   },
   "outputs": [
    {
     "name": "stdout",
     "output_type": "stream",
     "text": [
      "Low Median of the Age is 21 \n",
      "Low Median of the Marks is 78 \n",
      "High Median of the Age is 21 \n",
      "High Median of the Marks is 79 \n"
     ]
    }
   ],
   "source": [
    "#Median_low & Median_high\n",
    "print(\"Low Median of the Age is %s \"\n",
    "     % (statistics.median_low(new_df.Age)))\n",
    "\n",
    "print(\"Low Median of the Marks is %s \"\n",
    "     % (statistics.median_low(new_df.Marks)))\n",
    "\n",
    "print(\"High Median of the Age is %s \"\n",
    "     % (statistics.median_high(new_df.Age)))\n",
    "\n",
    "print(\"High Median of the Marks is %s \"\n",
    "     % (statistics.median_high(new_df.Marks)))"
   ]
  },
  {
   "cell_type": "code",
   "execution_count": 22,
   "metadata": {
    "colab": {
     "base_uri": "https://localhost:8080/",
     "height": 334
    },
    "id": "Htj8hlo6Nxgg",
    "outputId": "f093f99c-d38d-48cd-f5cc-eef016cd58ea"
   },
   "outputs": [
    {
     "name": "stdout",
     "output_type": "stream",
     "text": [
      "The Mode of Age is: : 21\n"
     ]
    },
    {
     "ename": "StatisticsError",
     "evalue": "ignored",
     "output_type": "error",
     "traceback": [
      "\u001b[0;31m---------------------------------------------------------------------------\u001b[0m",
      "\u001b[0;31mStatisticsError\u001b[0m                           Traceback (most recent call last)",
      "\u001b[0;32m<ipython-input-22-38949b4e67e7>\u001b[0m in \u001b[0;36m<module>\u001b[0;34m()\u001b[0m\n\u001b[1;32m      2\u001b[0m \u001b[0;32mfrom\u001b[0m \u001b[0mstatistics\u001b[0m \u001b[0;32mimport\u001b[0m \u001b[0mmode\u001b[0m\u001b[0;34m\u001b[0m\u001b[0;34m\u001b[0m\u001b[0m\n\u001b[1;32m      3\u001b[0m \u001b[0mprint\u001b[0m\u001b[0;34m(\u001b[0m\u001b[0;34m\"The Mode of Age is: :\"\u001b[0m\u001b[0;34m,\u001b[0m \u001b[0mmode\u001b[0m\u001b[0;34m(\u001b[0m\u001b[0mnew_df\u001b[0m\u001b[0;34m.\u001b[0m\u001b[0mAge\u001b[0m\u001b[0;34m)\u001b[0m\u001b[0;34m)\u001b[0m\u001b[0;34m\u001b[0m\u001b[0;34m\u001b[0m\u001b[0m\n\u001b[0;32m----> 4\u001b[0;31m \u001b[0mprint\u001b[0m\u001b[0;34m(\u001b[0m\u001b[0;34m\"The Mode of Marks is: :\"\u001b[0m\u001b[0;34m,\u001b[0m \u001b[0mmode\u001b[0m\u001b[0;34m(\u001b[0m\u001b[0mnew_df\u001b[0m\u001b[0;34m.\u001b[0m\u001b[0mMarks\u001b[0m\u001b[0;34m)\u001b[0m\u001b[0;34m)\u001b[0m\u001b[0;34m\u001b[0m\u001b[0;34m\u001b[0m\u001b[0m\n\u001b[0m",
      "\u001b[0;32m/usr/lib/python3.7/statistics.py\u001b[0m in \u001b[0;36mmode\u001b[0;34m(data)\u001b[0m\n\u001b[1;32m    504\u001b[0m     \u001b[0;32melif\u001b[0m \u001b[0mtable\u001b[0m\u001b[0;34m:\u001b[0m\u001b[0;34m\u001b[0m\u001b[0;34m\u001b[0m\u001b[0m\n\u001b[1;32m    505\u001b[0m         raise StatisticsError(\n\u001b[0;32m--> 506\u001b[0;31m                 \u001b[0;34m'no unique mode; found %d equally common values'\u001b[0m \u001b[0;34m%\u001b[0m \u001b[0mlen\u001b[0m\u001b[0;34m(\u001b[0m\u001b[0mtable\u001b[0m\u001b[0;34m)\u001b[0m\u001b[0;34m\u001b[0m\u001b[0;34m\u001b[0m\u001b[0m\n\u001b[0m\u001b[1;32m    507\u001b[0m                 )\n\u001b[1;32m    508\u001b[0m     \u001b[0;32melse\u001b[0m\u001b[0;34m:\u001b[0m\u001b[0;34m\u001b[0m\u001b[0;34m\u001b[0m\u001b[0m\n",
      "\u001b[0;31mStatisticsError\u001b[0m: no unique mode; found 3 equally common values"
     ]
    }
   ],
   "source": [
    "#Mode\n",
    "from statistics import mode\n",
    "print(\"The Mode of Age is: :\", mode(new_df.Age))\n",
    "print(\"The Mode of Marks is: :\", mode(new_df.Marks))"
   ]
  },
  {
   "cell_type": "code",
   "execution_count": 23,
   "metadata": {
    "colab": {
     "base_uri": "https://localhost:8080/"
    },
    "id": "8Ce7u8c0LOzR",
    "outputId": "f4cfadbd-e203-4f3e-bb27-ab4f0296689c"
   },
   "outputs": [
    {
     "name": "stdout",
     "output_type": "stream",
     "text": [
      "Maximum:27, Minimum:17, Range: 10\n"
     ]
    }
   ],
   "source": [
    "#Range\n",
    "#Age\n",
    "Maximum = max(new_df.Age)\n",
    "Minimum = min(new_df.Age)\n",
    "Range = Maximum - Minimum\n",
    "print(\"Maximum:{}, Minimum:{}, Range: {}\".format(Maximum, Minimum, Range))"
   ]
  },
  {
   "cell_type": "code",
   "execution_count": 24,
   "metadata": {
    "colab": {
     "base_uri": "https://localhost:8080/"
    },
    "id": "0QL7z7R6NS5X",
    "outputId": "2eed90c5-caa9-437d-f401-e72e4ca962b7"
   },
   "outputs": [
    {
     "name": "stdout",
     "output_type": "stream",
     "text": [
      "Maximum:92, Minimum:60, Range: 32\n"
     ]
    }
   ],
   "source": [
    "#Range\n",
    "#Marks\n",
    "Maximum = max(new_df.Marks)\n",
    "Minimum = min(new_df.Marks)\n",
    "Range = Maximum - Minimum\n",
    "print(\"Maximum:{}, Minimum:{}, Range: {}\".format(Maximum, Minimum, Range))"
   ]
  },
  {
   "cell_type": "code",
   "execution_count": 26,
   "metadata": {
    "colab": {
     "base_uri": "https://localhost:8080/"
    },
    "id": "62DIRUpBNnuw",
    "outputId": "4b9eb8ff-469d-492d-b440-86d5a0cc05ea"
   },
   "outputs": [
    {
     "name": "stdout",
     "output_type": "stream",
     "text": [
      "Variance of Age is : 6.115384615384615\n",
      "Variance of Marks is : 75.01648351648352\n"
     ]
    }
   ],
   "source": [
    "#Variance\n",
    "print(\"Variance of Age is :\", new_df.Age.var())\n",
    "print(\"Variance of Marks is :\", new_df.Marks.var())"
   ]
  },
  {
   "cell_type": "code",
   "execution_count": 27,
   "metadata": {
    "colab": {
     "base_uri": "https://localhost:8080/"
    },
    "id": "yyGcDrkeSE1x",
    "outputId": "9da93b9c-5f48-4531-e37c-eaca99accb56"
   },
   "outputs": [
    {
     "name": "stdout",
     "output_type": "stream",
     "text": [
      "covariance:  [[ 6.11538462  2.80769231]\n",
      " [ 2.80769231 75.01648352]]\n"
     ]
    }
   ],
   "source": [
    "#Covariance\n",
    "C = np.stack((new_df.Age, new_df.Marks), axis=0)\n",
    "print(\"covariance: \",np.cov(C))"
   ]
  },
  {
   "cell_type": "code",
   "execution_count": null,
   "metadata": {
    "id": "JgJ06qi4S25Y"
   },
   "outputs": [],
   "source": []
  }
 ],
 "metadata": {
  "colab": {
   "collapsed_sections": [],
   "name": "Untitled13.ipynb",
   "provenance": []
  },
  "kernelspec": {
   "display_name": "Python 3 (ipykernel)",
   "language": "python",
   "name": "python3"
  },
  "language_info": {
   "codemirror_mode": {
    "name": "ipython",
    "version": 3
   },
   "file_extension": ".py",
   "mimetype": "text/x-python",
   "name": "python",
   "nbconvert_exporter": "python",
   "pygments_lexer": "ipython3",
   "version": "3.9.12"
  }
 },
 "nbformat": 4,
 "nbformat_minor": 1
}
