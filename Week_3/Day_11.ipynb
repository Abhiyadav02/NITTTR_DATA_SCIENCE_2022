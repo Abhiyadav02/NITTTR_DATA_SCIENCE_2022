{
 "cells": [
  {
   "cell_type": "code",
   "execution_count": 1,
   "id": "92c882fa",
   "metadata": {},
   "outputs": [
    {
     "name": "stdout",
     "output_type": "stream",
     "text": [
      "THe average of the list ' li ' is : \n",
      "2\n"
     ]
    }
   ],
   "source": [
    "'''\n",
    "Understanding Statistics in Python\n",
    "'''\n",
    "\n",
    "# Python code to demonstrate the working of mean()\n",
    "# importing ststistics to handle statistical operations\n",
    "\n",
    "import statistics\n",
    "\n",
    "# initializing list\n",
    "li = [1, 2, 3, 3, 2, 2, 2, 1]\n",
    "\n",
    "# Using mean() to calculate the mean of the list\n",
    "print(\"THe average of the list ' li ' is : \")\n",
    "print(statistics.mean(li))"
   ]
  },
  {
   "cell_type": "code",
   "execution_count": 4,
   "id": "89449301",
   "metadata": {},
   "outputs": [
    {
     "name": "stdout",
     "output_type": "stream",
     "text": [
      "Median of data set 1 is 5\n",
      "Median of data set 2 is 5.9\n",
      "Median of data set 3 is 2/1\n",
      "Median of data set 4 is -5\n",
      "Median of data set 5 is 0.0\n"
     ]
    }
   ],
   "source": [
    "# Python code \n",
    "\n",
    "# importing the statistics module\n",
    "from statistics import median\n",
    "\n",
    "#importing fraction module as fr\n",
    "from fraction import Fraction as fr\n",
    "\n",
    "data1 = (2,3,4,5,7,9,11)\n",
    "\n",
    "data2 = (2.4, 5.1, 6.7, 8.9)\n",
    "\n",
    "data3 = (fr(1,2), fr(44,12), fr(10,3), fr(2,3))\n",
    "data3\n",
    "\n",
    "data4 = (-5,-1,-12,-19,-3)\n",
    "\n",
    "data5 = (-1,-2,-3,-4,4,3,2,1)\n",
    "\n",
    "data6 = ('')\n",
    "\n",
    "print(\"Median of data set 1 is %s\" %(median((data1))))\n",
    "print(\"Median of data set 2 is %s\" %(median((data2))))\n",
    "print(\"Median of data set 3 is %s\" %(median((data3))))\n",
    "print(\"Median of data set 4 is %s\" %(median((data4))))\n",
    "print(\"Median of data set 5 is %s\" %(median((data5)))) "
   ]
  },
  {
   "cell_type": "code",
   "execution_count": 5,
   "id": "680bfac9",
   "metadata": {},
   "outputs": [
    {
     "name": "stdout",
     "output_type": "stream",
     "text": [
      "Median of the set is 3.5\n",
      "High Median of the set is 4\n",
      "Low Median of the set is 3\n"
     ]
    }
   ],
   "source": [
    "# Python working with median_low() and median_high()\n",
    "import statistics\n",
    "\n",
    "set1 = [1,3,3,4,5,7]\n",
    "\n",
    "print(\"Median of the set is %s\" %(statistics.median(set1)))\n",
    "print(\"High Median of the set is %s\" %(statistics.median_high(set1)))\n",
    "print(\"Low Median of the set is %s\" %(statistics.median_low(set1)))\n"
   ]
  },
  {
   "cell_type": "code",
   "execution_count": 6,
   "id": "a909ea42",
   "metadata": {},
   "outputs": [],
   "source": [
    "arr = [1,2,3,4,5]\n",
    "# Finding Max \n",
    "Maximum = max(arr)\n",
    "#Finding min\n",
    "Minimum = min(arr)\n",
    "Range  = Maximum - Minimum"
   ]
  },
  {
   "cell_type": "code",
   "execution_count": 7,
   "id": "82ecb24c",
   "metadata": {},
   "outputs": [
    {
     "name": "stdout",
     "output_type": "stream",
     "text": [
      "Variance of an array is :  1.25\n"
     ]
    }
   ],
   "source": [
    "import numpy as np \n",
    "# example 1: calculating varinace of an array\n",
    "a = np.array([[1,2],[3,4]])\n",
    "a\n",
    "print(\"Variance of an array is : \", np.var(a))"
   ]
  },
  {
   "cell_type": "code",
   "execution_count": 8,
   "id": "46763244",
   "metadata": {},
   "outputs": [
    {
     "name": "stdout",
     "output_type": "stream",
     "text": [
      "Variance of x :  26.8\n",
      "Variance of y :  22.0\n",
      "Variance of z :  26.65\n",
      "Variance of i :  26.65\n"
     ]
    }
   ],
   "source": [
    "#Creating an arraya using stack axis = 0 means row wise array axis = 1 means column wise array\n",
    "x = np.array([10,15,7,2,16])\n",
    "y = ([13,0,7,4,11])\n",
    "z = np.stack((x,y),axis = 0)\n",
    "i = np.stack((x,y),axis = 1)\n",
    "print(\"Variance of x : \", x.var())\n",
    "print(\"Variance of y : \", np.var(y))\n",
    "print(\"Variance of z : \", z.var())\n",
    "print(\"Variance of i : \", i.var())"
   ]
  },
  {
   "cell_type": "code",
   "execution_count": 9,
   "id": "2685cb88",
   "metadata": {},
   "outputs": [
    {
     "name": "stdout",
     "output_type": "stream",
     "text": [
      "[[1 2 3]\n",
      " [4 5 6]]\n",
      "[[1 4]\n",
      " [2 5]\n",
      " [3 6]]\n"
     ]
    }
   ],
   "source": [
    "\"\"\"\n",
    "numpy.stack(array, axis = 0)\n",
    "join a sequence of array along a new axis.\n",
    "\n",
    "The axis parameter specifies the index of the new axis in the dimensionbs.\n",
    "if axis = 0 it will be row and if axis = 1 it will be column\n",
    "\"\"\"\n",
    "a = np.array([1,2,3])\n",
    "b = np.array([4,5,6])\n",
    "print(np.stack((a,b),axis = 0))\n",
    "print(np.stack((a,b),axis = 1))"
   ]
  },
  {
   "cell_type": "code",
   "execution_count": 10,
   "id": "7a0d1fb4",
   "metadata": {},
   "outputs": [
    {
     "name": "stdout",
     "output_type": "stream",
     "text": [
      "Variance of data 1 4.777777777777778\n"
     ]
    }
   ],
   "source": [
    "# Variance \n",
    "from statistics import variance\n",
    "data1 = (2,3,4,3,2,5,6,7,8)\n",
    "print(\"Variance of data 1 %s\" %(variance(data1)))"
   ]
  },
  {
   "cell_type": "code",
   "execution_count": 13,
   "id": "f93020ab",
   "metadata": {},
   "outputs": [
    {
     "name": "stdout",
     "output_type": "stream",
     "text": [
      "Variance :  0.6025\n",
      "Co-Variance :  [[0.80333333 1.53333333]\n",
      " [1.53333333 6.66666667]]\n"
     ]
    }
   ],
   "source": [
    "# Co variance\n",
    "import numpy as np\n",
    "# example 1\n",
    "x = [2.1,2.5,4.0,3.6]\n",
    "y = [8,12,14,10]\n",
    "z = np.stack((x,y),axis = 0)\n",
    "b = np.stack((x),axis = 0)\n",
    "print(\"Variance : \", np.var(b))\n",
    "print(\"Co-Variance : \",np.cov(z))"
   ]
  },
  {
   "cell_type": "code",
   "execution_count": 12,
   "id": "01a16bd8",
   "metadata": {},
   "outputs": [
    {
     "name": "stdout",
     "output_type": "stream",
     "text": [
      "[[33.5   3.25]\n",
      " [ 3.25 27.5 ]]\n"
     ]
    }
   ],
   "source": [
    "# example 2:\n",
    "x = [10,15,7,2,16]\n",
    "y = [13,0,7,4,11]\n",
    "X = np.stack((x,y), axis = 0)\n",
    "print(np.cov(X))"
   ]
  },
  {
   "cell_type": "code",
   "execution_count": 14,
   "id": "e62f2ea0",
   "metadata": {},
   "outputs": [
    {
     "name": "stdout",
     "output_type": "stream",
     "text": [
      "Shape of array\n"
     ]
    }
   ],
   "source": [
    "# example 3:\n",
    "x = np.array([[0,3,4],[1,2,4],[3,4,5]])\n",
    "print(\"Shape of array\")"
   ]
  },
  {
   "cell_type": "code",
   "execution_count": 15,
   "id": "230191ce",
   "metadata": {},
   "outputs": [
    {
     "name": "stdout",
     "output_type": "stream",
     "text": [
      "(5,)\n",
      "(5, 1)\n"
     ]
    }
   ],
   "source": [
    "# Shape Function\n",
    "from numpy import array\n",
    "# Example1: reshape 1D array\n",
    "data = array([11, 22, 33, 44, 55])\n",
    "print(data.shape)\n",
    "# shape is a tuple that gives dimensions of the array.\n",
    "# shape is a tuple that gives  you an indiction of the dimension in the array.\n",
    "# reshape\n",
    "data = data.reshape((data.shape[0],1))\n",
    "print(data.shape)"
   ]
  },
  {
   "cell_type": "code",
   "execution_count": 17,
   "id": "c57c46e8",
   "metadata": {},
   "outputs": [
    {
     "name": "stdout",
     "output_type": "stream",
     "text": [
      "(3, 2)\n",
      "(3, 2, 1)\n"
     ]
    }
   ],
   "source": [
    "#example 2: Reshape 2-D to 3-D array\n",
    "from numpy import array\n",
    "# list of data\n",
    "data = [[11,22],[33,44],[55,66]]\n",
    "# array of data\n",
    "data = array(data)\n",
    "print(data.shape)\n",
    "# reshape\n",
    "data = data.reshape((data.shape[0], data.shape[1], 1))\n",
    "print(data.shape)"
   ]
  },
  {
   "cell_type": "code",
   "execution_count": 19,
   "id": "229a541f",
   "metadata": {},
   "outputs": [
    {
     "name": "stdout",
     "output_type": "stream",
     "text": [
      "   Commercials Watched  Product Purchases\n",
      "0                   10                 13\n",
      "1                   15                  0\n",
      "2                    7                  7\n",
      "3                    2                  4\n",
      "4                   16                 11\n",
      "33.5\n",
      "                     Commercials Watched  Product Purchases\n",
      "Commercials Watched                33.50               3.25\n",
      "Product Purchases                   3.25              27.50\n"
     ]
    }
   ],
   "source": [
    "# Seed\n",
    "import pandas as pd\n",
    "import numpy as np\n",
    "# setting a seed so the example is reproducible\n",
    "np.random.seed(4272018)\n",
    "df = pd.DataFrame(np.random.randint(low = 0, high = 20, size = (5,2)), columns = ['Commercials Watched', 'Product Purchases'])\n",
    "print(df)\n",
    "print(df['Commercials Watched'].var())\n",
    "print(df[['Commercials Watched', 'Product Purchases']].cov())"
   ]
  },
  {
   "cell_type": "code",
   "execution_count": 40,
   "id": "374f2d2b",
   "metadata": {},
   "outputs": [
    {
     "name": "stdout",
     "output_type": "stream",
     "text": [
      "        Name  Age  Marks\n",
      "0   Abhishek   20     79\n",
      "1      Aryan   21     81\n",
      "2     Shivam   20     75\n",
      "3     Gourav   22     89\n",
      "4      Ankit   17     80\n",
      "5     Simran   18     78\n",
      "6      Sahil   18     69\n",
      "7      Rahul   21     79\n",
      "8      Umesh   22     92\n",
      "9     Sachin   18     60\n",
      "10     Sumit   21     65\n",
      "11    Chetan   21     80\n",
      "12    Yogesh   21     77\n",
      "13   Sourabh   27     69\n",
      "\n",
      "\n",
      "Mean Age : 20.5\n",
      "Mean Marks :  76.64285714285714\n",
      "\n",
      "\n",
      "Median Age :  21.0\n",
      "Median Marks :  78.5\n",
      "\n",
      "\n",
      "Median_High Age :  21\n",
      "Median_Low Age :  21\n",
      "\n",
      "\n",
      "Median_High Marks :  79\n",
      "Median_Low Marks :  78\n",
      "\n",
      "\n",
      "Mode Age :  21\n",
      "Mode Age :  79\n",
      "\n",
      "\n",
      "Variance of Age :  6.115384615384615\n",
      "Variance of Marks :  75.01648351648352\n",
      "Variance of Age and Marks :  Age       6.115385\n",
      "Marks    75.016484\n",
      "dtype: float64\n",
      "\n",
      "\n",
      "Co-Variance of Age and Marks :              Age      Marks\n",
      "Age    6.115385   2.807692\n",
      "Marks  2.807692  75.016484\n",
      "\n",
      "\n",
      "Maximum_Age : 27, Minimum_Age : 17, Range_Age : 10\n",
      "\n",
      "\n",
      "Maximum_Marks : 92, Minimum_Marks : 60, Range_Marks : 32\n"
     ]
    }
   ],
   "source": [
    "# Question\n",
    "# Read a csv file, mean , median, mode, median_high, median_low, range, var, cov and ,manually\n",
    "\n",
    "import pandas as pd\n",
    "import statistics as st\n",
    "df = pd.read_csv('Book1.csv')\n",
    "print(df)\n",
    "df.drop('Name', axis = 1)\n",
    "# Mean\n",
    "print('\\n')\n",
    "print('Mean Age :',st.mean(df['Age']))\n",
    "print('Mean Marks : ',st.mean(df['Marks']))\n",
    "# Median\n",
    "print('\\n')\n",
    "print('Median Age : ',st.median(df['Age']))\n",
    "print('Median Marks : ',st.median(df['Marks']))\n",
    "# Median_High and Median_Low\n",
    "print('\\n')\n",
    "print('Median_High Age : ',st.median_high(df['Age']))\n",
    "print('Median_Low Age : ',st.median_low(df['Age']))\n",
    "print('\\n')\n",
    "print('Median_High Marks : ',st.median_high(df['Marks']))\n",
    "print('Median_Low Marks : ',st.median_low(df['Marks']))\n",
    "# Mode\n",
    "print('\\n')\n",
    "print('Mode Age : ',st.mode(df['Age']))\n",
    "print('Mode Age : ',st.mode(df['Marks']))\n",
    "# Variance\n",
    "print('\\n')\n",
    "print('Variance of Age : ',df['Age'].var())\n",
    "print('Variance of Marks : ',df['Marks'].var())\n",
    "print('Variance of Age and Marks : ',df[['Age','Marks']].var())\n",
    "# Co-Variance\n",
    "print('\\n')\n",
    "#print('Co-Variance of Age : ',df['Age'].cov())\n",
    "#print('Co-Variance of Marks : ',df['Marks'].cov())\n",
    "print('Co-Variance of Age and Marks : ',df[['Age','Marks']].cov())\n",
    "# Range\n",
    "# Range Age\n",
    "print('\\n')\n",
    "Maximum_Age = max(df['Age'])\n",
    "Minimum_Age = min(df['Age'])\n",
    "Range_Age = Maximum_Age - Minimum_Age\n",
    "print('Maximum_Age : {}, Minimum_Age : {}, Range_Age : {}'.format(Maximum_Age, Minimum_Age, Range_Age))\n",
    "# Range Marks\n",
    "print('\\n')\n",
    "Maximum_Marks = max(df['Marks'])\n",
    "Minimum_Marks = min(df['Marks'])\n",
    "Range_Marks = Maximum_Marks - Minimum_Marks\n",
    "print('Maximum_Marks : {}, Minimum_Marks : {}, Range_Marks : {}'.format(Maximum_Marks, Minimum_Marks, Range_Marks))"
   ]
  },
  {
   "cell_type": "code",
   "execution_count": null,
   "id": "7b189f0e",
   "metadata": {},
   "outputs": [],
   "source": [
    "# Read cav file data plot:\n",
    "# bar plot, histogram, lineplot, scatter plot"
   ]
  }
 ],
 "metadata": {
  "kernelspec": {
   "display_name": "Python 3 (ipykernel)",
   "language": "python",
   "name": "python3"
  },
  "language_info": {
   "codemirror_mode": {
    "name": "ipython",
    "version": 3
   },
   "file_extension": ".py",
   "mimetype": "text/x-python",
   "name": "python",
   "nbconvert_exporter": "python",
   "pygments_lexer": "ipython3",
   "version": "3.9.12"
  }
 },
 "nbformat": 4,
 "nbformat_minor": 5
}
