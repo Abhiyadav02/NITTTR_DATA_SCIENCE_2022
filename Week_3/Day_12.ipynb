{
 "cells": [
  {
   "cell_type": "markdown",
   "id": "618bb0e9",
   "metadata": {},
   "source": [
    "colab.research.google.com\n",
    "\n",
    "weehyrx ( classroom.google.com code)\n",
    "\n",
    "Data Visualization\n",
    "library :\n",
    "    ----> Matplotlib\n",
    "    ----> Seaborn\n",
    "    ----> ggplot Chart\n",
    "    ----> Atlair\n",
    "    ----> Folium\n",
    "    ----> \n",
    "\n",
    "-----------------------------------\n",
    "www.pypi.org\n",
    "www.pythonanywhere.com/batteries_included/\n",
    "www.scikit-learn.org/stable/modules\n",
    "www.github.com/scikit-learn/scikit-learn\n",
    "www.aosabook.org/en/matplotlib.html\n",
    "www.plotly.com/python/\n",
    "www.matplotlib.org/stable/gallery\n",
    "\n",
    "------------------------------------\n",
    "\n",
    "MATPLOTLIB\n",
    "1) Backend Layer     ( Figure, Canvas, Renderer, Event )\n",
    "2) Artist Layer      ( Artist )\n",
    "3) Scripting Layer   ( pyplot )\n",
    "\n",
    "Artist Layer :\n",
    "Below is  a simple python script illustrating the architecture above. It defines the backend, connects a Figure to it, uses "
   ]
  },
  {
   "cell_type": "code",
   "execution_count": 2,
   "id": "d883e052",
   "metadata": {},
   "outputs": [],
   "source": [
    "# Example generate QR Code\n",
    "import qrcode\n",
    "dir(qrcode)\n",
    "img = qrcode.make('Welcome To NITTTR, www.nitttrchd.ac.in')\n",
    "img.save('myqrcode.png')"
   ]
  },
  {
   "cell_type": "code",
   "execution_count": 5,
   "id": "8ae858ec",
   "metadata": {},
   "outputs": [
    {
     "data": {
      "text/plain": [
       "['__doc__',\n",
       " '__loader__',\n",
       " '__name__',\n",
       " '__package__',\n",
       " '__spec__',\n",
       " 'acos',\n",
       " 'acosh',\n",
       " 'asin',\n",
       " 'asinh',\n",
       " 'atan',\n",
       " 'atan2',\n",
       " 'atanh',\n",
       " 'ceil',\n",
       " 'comb',\n",
       " 'copysign',\n",
       " 'cos',\n",
       " 'cosh',\n",
       " 'degrees',\n",
       " 'dist',\n",
       " 'e',\n",
       " 'erf',\n",
       " 'erfc',\n",
       " 'exp',\n",
       " 'expm1',\n",
       " 'fabs',\n",
       " 'factorial',\n",
       " 'floor',\n",
       " 'fmod',\n",
       " 'frexp',\n",
       " 'fsum',\n",
       " 'gamma',\n",
       " 'gcd',\n",
       " 'hypot',\n",
       " 'inf',\n",
       " 'isclose',\n",
       " 'isfinite',\n",
       " 'isinf',\n",
       " 'isnan',\n",
       " 'isqrt',\n",
       " 'lcm',\n",
       " 'ldexp',\n",
       " 'lgamma',\n",
       " 'log',\n",
       " 'log10',\n",
       " 'log1p',\n",
       " 'log2',\n",
       " 'modf',\n",
       " 'nan',\n",
       " 'nextafter',\n",
       " 'perm',\n",
       " 'pi',\n",
       " 'pow',\n",
       " 'prod',\n",
       " 'radians',\n",
       " 'remainder',\n",
       " 'sin',\n",
       " 'sinh',\n",
       " 'sqrt',\n",
       " 'tan',\n",
       " 'tanh',\n",
       " 'tau',\n",
       " 'trunc',\n",
       " 'ulp']"
      ]
     },
     "execution_count": 5,
     "metadata": {},
     "output_type": "execute_result"
    }
   ],
   "source": [
    "# importing math library\n",
    "import math\n",
    "dir(math)"
   ]
  },
  {
   "cell_type": "code",
   "execution_count": null,
   "id": "31e54d55",
   "metadata": {},
   "outputs": [],
   "source": [
    "import matplotlib.pyplot as plt\n",
    "import numpy as np\n",
    "x = np.random.randn(10000)\n",
    "plt.hist(x,100)\n",
    "plt.title(r'Normal distribution with $\\mu = 0, \\sigma = 1$')\n",
    "pl"
   ]
  }
 ],
 "metadata": {
  "kernelspec": {
   "display_name": "Python 3 (ipykernel)",
   "language": "python",
   "name": "python3"
  },
  "language_info": {
   "codemirror_mode": {
    "name": "ipython",
    "version": 3
   },
   "file_extension": ".py",
   "mimetype": "text/x-python",
   "name": "python",
   "nbconvert_exporter": "python",
   "pygments_lexer": "ipython3",
   "version": "3.9.12"
  }
 },
 "nbformat": 4,
 "nbformat_minor": 5
}
