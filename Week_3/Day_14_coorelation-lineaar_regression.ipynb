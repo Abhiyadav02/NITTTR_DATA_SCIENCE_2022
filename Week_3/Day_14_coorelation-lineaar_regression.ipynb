{
 "cells": [
  {
   "cell_type": "markdown",
   "id": "73bebc5a",
   "metadata": {},
   "source": [
    "# coorelation"
   ]
  },
  {
   "cell_type": "code",
   "execution_count": 2,
   "id": "b6cc2e8e",
   "metadata": {},
   "outputs": [
    {
     "name": "stdout",
     "output_type": "stream",
     "text": [
      "Coorelation coefficient is : \n",
      "[[1.         0.10707661]\n",
      " [0.10707661 1.        ]]\n"
     ]
    }
   ],
   "source": [
    "import numpy as np\n",
    "import pandas as pd\n",
    "x = [10,15,7,2,16]\n",
    "y = [13,0,7,4,11]\n",
    "X = np.stack((x,y), axis = 0)\n",
    "print(\"Coorelation coefficient is : \")\n",
    "print(np.corrcoef(X))"
   ]
  },
  {
   "cell_type": "code",
   "execution_count": 3,
   "id": "fcd10586",
   "metadata": {},
   "outputs": [
    {
     "name": "stdout",
     "output_type": "stream",
     "text": [
      "     Gender  Age Range  Head Size(cm^3)  Brain Weight(grams)\n",
      "0         1          1             4512                 1530\n",
      "1         1          1             3738                 1297\n",
      "2         1          1             4261                 1335\n",
      "3         1          1             3777                 1282\n",
      "4         1          1             4177                 1590\n",
      "..      ...        ...              ...                  ...\n",
      "232       2          2             3214                 1110\n",
      "233       2          2             3394                 1215\n",
      "234       2          2             3233                 1104\n",
      "235       2          2             3352                 1170\n",
      "236       2          2             3391                 1120\n",
      "\n",
      "[237 rows x 4 columns]\n"
     ]
    }
   ],
   "source": [
    "# using dataset\n",
    "# Model the relationship between Head Size ( cm^3 )\n",
    "# Brain Weight ( gram ) is the outcome or dependent Y variable\n",
    "\n",
    "df = pd.read_csv('headbrain.csv')\n",
    "print(df)"
   ]
  },
  {
   "cell_type": "code",
   "execution_count": 6,
   "id": "738de384",
   "metadata": {},
   "outputs": [
    {
     "name": "stdout",
     "output_type": "stream",
     "text": [
      "Coorelation cofiecient is : \n",
      "[[1.         0.79956971]\n",
      " [0.79956971 1.        ]]\n"
     ]
    }
   ],
   "source": [
    "x = df['Head Size(cm^3)']\n",
    "y = df['Brain Weight(grams)']\n",
    "X = np.stack((x,y), axis = 0)\n",
    "print(\"Coorelation cofiecient is : \")\n",
    "print(np.corrcoef(X))"
   ]
  },
  {
   "cell_type": "code",
   "execution_count": 7,
   "id": "abfe5c71",
   "metadata": {},
   "outputs": [
    {
     "data": {
      "text/plain": [
       "array([[1.        , 0.99996532, 0.99962559, ..., 0.99999747, 0.99994701,\n",
       "        0.99995385],\n",
       "       [0.99996532, 1.        , 0.99936303, ..., 0.99998153, 0.99999807,\n",
       "        0.99983915],\n",
       "       [0.99962559, 0.99936303, 1.        , ..., 0.99956148, 0.99929092,\n",
       "        0.99984233],\n",
       "       ...,\n",
       "       [0.99999747, 0.99998153, 0.99956148, ..., 1.        , 0.99996764,\n",
       "        0.99992969],\n",
       "       [0.99994701, 0.99999807, 0.99929092, ..., 0.99996764, 1.        ,\n",
       "        0.99980195],\n",
       "       [0.99995385, 0.99983915, 0.99984233, ..., 0.99992969, 0.99980195,\n",
       "        1.        ]])"
      ]
     },
     "execution_count": 7,
     "metadata": {},
     "output_type": "execute_result"
    }
   ],
   "source": [
    "np.corrcoef(df)"
   ]
  },
  {
   "cell_type": "code",
   "execution_count": 10,
   "id": "fa83fe57",
   "metadata": {},
   "outputs": [
    {
     "name": "stdout",
     "output_type": "stream",
     "text": [
      "Coorelation is : \n",
      "[[1.         0.79956971]\n",
      " [0.79956971 1.        ]]\n"
     ]
    }
   ],
   "source": [
    "x = df.iloc[:,2].values # values conveerts\n",
    "y = df.iloc[:,3].values # -1 means that \n",
    "\n",
    "z = np.stack((x,y), axis = 0)\n",
    "z\n",
    "print('Coorelation is : ')\n",
    "print(np.corrcoef(z))"
   ]
  },
  {
   "cell_type": "markdown",
   "id": "731f4eb5",
   "metadata": {},
   "source": [
    "# Linear Regression"
   ]
  },
  {
   "cell_type": "code",
   "execution_count": 17,
   "id": "cdf86244",
   "metadata": {},
   "outputs": [
    {
     "name": "stdout",
     "output_type": "stream",
     "text": [
      "Slope(m) :  [[0.26342934]]\n",
      "Intercept(c) :  [325.57342105]\n",
      "Root mean squared error :  5201.3840280023305\n",
      "R2 score :  0.639311719957\n"
     ]
    },
    {
     "data": {
      "image/png": "[encoded data removed]",
      "text/plain": [
       "<Figure size 432x288 with 1 Axes>"
      ]
     },
     "metadata": {
      "needs_background": "light"
     },
     "output_type": "display_data"
    }
   ],
   "source": [
    "import numpy as np\n",
    "import pandas as pd\n",
    "import matplotlib.pyplot as plt\n",
    "from sklearn.linear_model import LinearRegression\n",
    "from sklearn.metrics import mean_squared_error, r2_score\n",
    "\n",
    "'''\n",
    "\n",
    "'''\n",
    "\n",
    "data = pd.read_csv('headbrain.csv')\n",
    "# values converts it into a numpy array\n",
    "x = data.iloc[:,2].values.reshape(-1,1)\n",
    "# -1 means that calculation the dimension of row, but have 1 column\n",
    "y = data.iloc[:,3].values.reshape(-1,1)\n",
    "\n",
    "# sckit-learn implementation \n",
    "# Model intialization\n",
    "regression_model = LinearRegression()\n",
    "# Fit the data ( train the model )\n",
    "regression_model.fit(x,y)\n",
    "# predict\n",
    "y_predicted = regression_model.predict(x)\n",
    "# model evaluation\n",
    "rmse = mean_squared_error(y,y_predicted)\n",
    "r2 = r2_score(y,y_predicted)\n",
    "# printing values\n",
    "print('Slope(m) : ', regression_model.coef_)\n",
    "print('Intercept(c) : ', regression_model.intercept_)\n",
    "print('Root mean squared error : ',rmse)\n",
    "print('R2 score : ', r2)\n",
    "\n",
    "# ploting values\n",
    "# data points\n",
    "plt.scatter(x, y, s = 20)\n",
    "plt.xlabel('Independent variable : x')\n",
    "plt.ylabel('Dependent variable : y')\n",
    "# predicted values\n",
    "plt.plot(x, y_predicted, color = 'r')\n",
    "plt.show()"
   ]
  },
  {
   "cell_type": "markdown",
   "id": "dd98c8d3",
   "metadata": {},
   "source": [
    "\n",
    "### Linear Regression manually"
   ]
  },
  {
   "cell_type": "code",
   "execution_count": 18,
   "id": "d5010863",
   "metadata": {},
   "outputs": [
    {
     "name": "stdout",
     "output_type": "stream",
     "text": [
      "Intercept(c):\n",
      "b_0 = 4.32 \n",
      "slope(m) = 0.4\n"
     ]
    },
    {
     "data": {
      "image/png": "[encoded data removed]",
      "text/plain": [
       "<Figure size 432x288 with 1 Axes>"
      ]
     },
     "metadata": {
      "needs_background": "light"
     },
     "output_type": "display_data"
    }
   ],
   "source": [
    "import numpy as np\n",
    "import matplotlib.pyplot as plt\n",
    "\n",
    "def estimate_coef(x, y):\n",
    "    # number of observations/point\n",
    "    n =np.size(x)\n",
    "    \n",
    "    # mean of x and y vector\n",
    "    m_x, m_y = np.mean(x), np.mean(y)\n",
    "    \n",
    "    # calculating cross-evaluation and deviation\n",
    "    SS_xy  = np.sum(y * x) - n * m_y * m_x\n",
    "    SS_xx = np.sum(x * x) - n * m_x * m_x\n",
    "    \n",
    "    # calculating regression coefficients\n",
    "    b_1 = SS_xy / SS_xx\n",
    "    b_0 = m_y * b_1 * m_x\n",
    "    \n",
    "    return (b_0, b_1)\n",
    "\n",
    "def plot_regression_line(x, y, b):\n",
    "    # plotting the actual points as scatter plot\n",
    "    plt.scatter(x, y, color = \"m\", marker = \"o\", s = 30)\n",
    "    \n",
    "    # predicted response vector\n",
    "    y_pred = b[0]+ b[1] * x\n",
    "    \n",
    "    # plotting the regression line\n",
    "    plt.plot(x, y_pred, color = 'g')\n",
    "    \n",
    "    # putting labels\n",
    "    plt.xlabel('x')\n",
    "    plt.ylabel('y')\n",
    "    \n",
    "    # function to show plot\n",
    "    plt.show()\n",
    "\n",
    "def main():\n",
    "    x = np.array([1, 2, 3, 4, 5])\n",
    "    y = np.array([3, 4, 2, 4, 5])\n",
    "    \n",
    "    # estimating coefficients\n",
    "    b = estimate_coef(x, y)\n",
    "    print(\"Intercept(c):\\nb_0 = {} \\nslope(m) = {}\".format(b[0],b[1]))\n",
    "    \n",
    "    # plotting regression line\n",
    "    plot_regression_line(x, y, b)\n",
    "\n",
    "main()"
   ]
  },
  {
   "cell_type": "code",
   "execution_count": 19,
   "id": "78cb2212",
   "metadata": {},
   "outputs": [
    {
     "name": "stdout",
     "output_type": "stream",
     "text": [
      "Intercept(c):\n",
      "b_0 = 2.4 \n",
      "Slope(m) = 0.4\n"
     ]
    },
    {
     "data": {
      "image/png": "[encoded data removed]",
      "text/plain": [
       "<Figure size 432x288 with 1 Axes>"
      ]
     },
     "metadata": {
      "needs_background": "light"
     },
     "output_type": "display_data"
    }
   ],
   "source": [
    "def estimate_coef(x,y):\n",
    "    n = np.size(x)\n",
    "    m_x, m_y = np.mean(x), np.mean(y)\n",
    "    SS_xy = np.sum(y*x) - n*m_y*m_x\n",
    "    SS_xx = np.sum(x*x) - n*m_x*m_x\n",
    "    b_1 = SS_xy/SS_xx\n",
    "    b_0 = m_y-b_1*m_x\n",
    "    \n",
    "    return (b_0, b_1)\n",
    "\n",
    "def plot_reg_line(x,y,b):\n",
    "    plt.scatter(x,y,color = 'm', marker = 'o', s = 30)\n",
    "    y_pred = b[0]+b[1] * x\n",
    "    plt.plot(x, y_pred, color = 'g')\n",
    "    plt.xlabel('x')\n",
    "    plt.ylabel('y')\n",
    "    plt.show()\n",
    "    \n",
    "def main():\n",
    "    x = np.array([1,2,3,4,5])\n",
    "    y = np.array([3,4,2,4,5])\n",
    "    \n",
    "    b = estimate_coef(x, y)\n",
    "    print('Intercept(c):\\nb_0 = {} \\nSlope(m) = {}'.format(b[0], b[1]))\n",
    "    plot_reg_line(x,y,b)\n",
    "    \n",
    "main()"
   ]
  },
  {
   "cell_type": "code",
   "execution_count": null,
   "id": "05b15159",
   "metadata": {},
   "outputs": [],
   "source": []
  }
 ],
 "metadata": {
  "kernelspec": {
   "display_name": "Python 3 (ipykernel)",
   "language": "python",
   "name": "python3"
  },
  "language_info": {
   "codemirror_mode": {
    "name": "ipython",
    "version": 3
   },
   "file_extension": ".py",
   "mimetype": "text/x-python",
   "name": "python",
   "nbconvert_exporter": "python",
   "pygments_lexer": "ipython3",
   "version": "3.9.12"
  }
 },
 "nbformat": 4,
 "nbformat_minor": 5
}
